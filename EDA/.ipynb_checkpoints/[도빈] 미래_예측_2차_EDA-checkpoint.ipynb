{
  "nbformat": 4,
  "nbformat_minor": 0,
  "metadata": {
    "colab": {
      "provenance": []
    },
    "kernelspec": {
      "name": "python3",
      "display_name": "Python 3"
    },
    "language_info": {
      "name": "python"
    }
  },
  "cells": [
    {
      "cell_type": "markdown",
      "source": [
        "#<데이터 불러오기>"
      ],
      "metadata": {
        "id": "vd3YxYRoIWXG"
      }
    },
    {
      "cell_type": "code",
      "execution_count": null,
      "metadata": {
        "id": "xFmFkgUN6n3T",
        "colab": {
          "base_uri": "https://localhost:8080/"
        },
        "outputId": "f81def99-0e3f-48f2-cc5e-fe5e677a67c2"
      },
      "outputs": [
        {
          "output_type": "stream",
          "name": "stdout",
          "text": [
            "Selecting previously unselected package fonts-nanum.\n",
            "(Reading database ... 121918 files and directories currently installed.)\n",
            "Preparing to unpack .../fonts-nanum_20200506-1_all.deb ...\n",
            "Unpacking fonts-nanum (20200506-1) ...\n",
            "Selecting previously unselected package fonts-nanum-coding.\n",
            "Preparing to unpack .../fonts-nanum-coding_2.5-3_all.deb ...\n",
            "Unpacking fonts-nanum-coding (2.5-3) ...\n",
            "Selecting previously unselected package fonts-nanum-eco.\n",
            "Preparing to unpack .../fonts-nanum-eco_1.000-7_all.deb ...\n",
            "Unpacking fonts-nanum-eco (1.000-7) ...\n",
            "Selecting previously unselected package fonts-nanum-extra.\n",
            "Preparing to unpack .../fonts-nanum-extra_20200506-1_all.deb ...\n",
            "Unpacking fonts-nanum-extra (20200506-1) ...\n",
            "Setting up fonts-nanum-extra (20200506-1) ...\n",
            "Setting up fonts-nanum (20200506-1) ...\n",
            "Setting up fonts-nanum-coding (2.5-3) ...\n",
            "Setting up fonts-nanum-eco (1.000-7) ...\n",
            "Processing triggers for fontconfig (2.13.1-4.2ubuntu5) ...\n"
          ]
        }
      ],
      "source": [
        "import numpy as np\n",
        "import pandas as pd\n",
        "import matplotlib.pyplot as plt\n",
        "import seaborn as sns\n",
        "%matplotlib inline\n",
        "\n",
        "# 기본 한글 폰트로 설정\n",
        "import matplotlib.font_manager as fm  # 폰트 관리\n",
        "\n",
        "\n",
        "!apt-get update -qq         # apt-get 패키지 설치 명령어, -qq : 에러외 메세지 숨기기\n",
        "!apt-get install fonts-nanum* -qq #나눔글꼴 설치\n",
        "\n",
        "fe = fm.FontEntry(fname=r'C:/Windows/Fonts/NanumGothic.ttf', name='NanumGothic') #파일 저장되어있는 경로와 이름 설정\n",
        "fm.fontManager.ttflist.insert(0, fe)  # Matplotlib에 폰트 추가\n",
        "plt.rcParams.update({'font.size': 10, 'font.family': 'NanumGothic'}) #폰트설정\n",
        "plt.rcParams['font.family'] = 'NanumGothic'\n",
        "\n",
        "# 음수 부호까지 제대로 표시되도록 설정 추가\n",
        "plt.rcParams['axes.unicode_minus'] = False\n",
        "\n",
        "# 경고 메시지 무시\n",
        "import random, warnings\n",
        "warnings.filterwarnings(\"ignore\")"
      ]
    },
    {
      "cell_type": "code",
      "source": [
        "train_df = pd.read_csv('/content/drive/MyDrive/데이터/미래 매출/sales_train.csv')\n",
        "test_df = pd.read_csv('/content/drive/MyDrive/데이터/미래 매출/test.csv')\n",
        "submission = pd.read_csv('/content/drive/MyDrive/데이터/미래 매출/sample_submission.csv')\n",
        "shops_df = pd.read_csv('/content/drive/MyDrive/데이터/미래 매출/shops.csv')\n",
        "items_df = pd.read_csv('/content/drive/MyDrive/데이터/미래 매출/items.csv')\n",
        "item_cat_df = pd.read_csv('/content/drive/MyDrive/데이터/미래 매출/item_categories.csv')"
      ],
      "metadata": {
        "id": "ojRsaliZIbMe"
      },
      "execution_count": null,
      "outputs": []
    },
    {
      "cell_type": "markdown",
      "source": [
        "#<이상치 처리1 - 중앙값, 박스플롯>"
      ],
      "metadata": {
        "id": "NsGwamn0g4VC"
      }
    },
    {
      "cell_type": "markdown",
      "source": [
        "1. 음수 값"
      ],
      "metadata": {
        "id": "C-jim9fmr9dr"
      }
    },
    {
      "cell_type": "code",
      "source": [
        "# 음수인 데이터 확인\n",
        "negative_values = train_df[train_df['item_cnt_day'] < 0]\n",
        "print(\"음수인 데이터:\")\n",
        "print(negative_values)"
      ],
      "metadata": {
        "id": "OKCLKHqeVzQA",
        "outputId": "12a6bb73-cfe7-4e8c-cc65-012a03524e78",
        "colab": {
          "base_uri": "https://localhost:8080/"
        }
      },
      "execution_count": null,
      "outputs": [
        {
          "output_type": "stream",
          "name": "stdout",
          "text": [
            "음수인 데이터:\n",
            "               date  date_block_num  shop_id  item_id  item_price  \\\n",
            "2        05.01.2013               0       25     2552       899.0   \n",
            "148      23.01.2013               0       25     2321       999.0   \n",
            "175      07.01.2013               0       25     2199      1449.0   \n",
            "807      02.01.2013               0       25     2330       599.0   \n",
            "1041     13.01.2013               0       25     5034      1989.0   \n",
            "...             ...             ...      ...      ...         ...   \n",
            "2934243  26.10.2015              33       25     3917       449.0   \n",
            "2934462  18.10.2015              33       25     4896      6398.0   \n",
            "2935263  05.10.2015              33       25    10039       249.0   \n",
            "2935643  16.10.2015              33       25     7893      2990.0   \n",
            "2935779  07.10.2015              33       25     7087       999.0   \n",
            "\n",
            "         item_cnt_day  \n",
            "2                -1.0  \n",
            "148              -1.0  \n",
            "175              -1.0  \n",
            "807              -1.0  \n",
            "1041             -1.0  \n",
            "...               ...  \n",
            "2934243          -1.0  \n",
            "2934462          -1.0  \n",
            "2935263          -1.0  \n",
            "2935643          -1.0  \n",
            "2935779          -1.0  \n",
            "\n",
            "[7356 rows x 6 columns]\n"
          ]
        }
      ]
    },
    {
      "cell_type": "code",
      "source": [
        "# item_cnt_day 변수가 음수인 행들을 0으로 변경\n",
        "train_df.loc[train_df['item_cnt_day'] < 0, 'item_cnt_day'] = 0\n",
        "\n",
        "print(train_df)"
      ],
      "metadata": {
        "id": "sSiXOgQ8g9VI",
        "colab": {
          "base_uri": "https://localhost:8080/"
        },
        "outputId": "db50f44a-21d5-44b1-edb0-12d5a97f5e91"
      },
      "execution_count": null,
      "outputs": [
        {
          "output_type": "stream",
          "name": "stdout",
          "text": [
            "               date  date_block_num  shop_id  item_id  item_price  \\\n",
            "0        02.01.2013               0       59    22154      999.00   \n",
            "1        03.01.2013               0       25     2552      899.00   \n",
            "2        05.01.2013               0       25     2552      899.00   \n",
            "3        06.01.2013               0       25     2554     1709.05   \n",
            "4        15.01.2013               0       25     2555     1099.00   \n",
            "...             ...             ...      ...      ...         ...   \n",
            "2935844  10.10.2015              33       25     7409      299.00   \n",
            "2935845  09.10.2015              33       25     7460      299.00   \n",
            "2935846  14.10.2015              33       25     7459      349.00   \n",
            "2935847  22.10.2015              33       25     7440      299.00   \n",
            "2935848  03.10.2015              33       25     7460      299.00   \n",
            "\n",
            "         item_cnt_day  \n",
            "0                 1.0  \n",
            "1                 1.0  \n",
            "2                 0.0  \n",
            "3                 1.0  \n",
            "4                 1.0  \n",
            "...               ...  \n",
            "2935844           1.0  \n",
            "2935845           1.0  \n",
            "2935846           1.0  \n",
            "2935847           1.0  \n",
            "2935848           1.0  \n",
            "\n",
            "[2935849 rows x 6 columns]\n"
          ]
        }
      ]
    },
    {
      "cell_type": "code",
      "source": [
        "# 음수인 데이터 확인\n",
        "negative_values = train_df[train_df['item_price'] < 0]\n",
        "print(\"음수인 데이터:\")\n",
        "print(negative_values)"
      ],
      "metadata": {
        "colab": {
          "base_uri": "https://localhost:8080/"
        },
        "id": "U3t5tZ_MrvMe",
        "outputId": "47663190-2f60-425e-e721-bed5fdef2e5c"
      },
      "execution_count": null,
      "outputs": [
        {
          "output_type": "stream",
          "name": "stdout",
          "text": [
            "음수인 데이터:\n",
            "              date  date_block_num  shop_id  item_id  item_price  item_cnt_day\n",
            "484683  15.05.2013               4       32     2973        -1.0           1.0\n"
          ]
        }
      ]
    },
    {
      "cell_type": "code",
      "source": [
        "# item_price 변수가 음수인 행들을 0으로 변경\n",
        "train_df.loc[train_df['item_price'] < 0, 'item_price'] = 0\n",
        "\n",
        "print(train_df)"
      ],
      "metadata": {
        "colab": {
          "base_uri": "https://localhost:8080/"
        },
        "id": "6d_W_yTPryRv",
        "outputId": "82c7562a-efa8-48bd-dff1-09a1aa4fac8c"
      },
      "execution_count": null,
      "outputs": [
        {
          "output_type": "stream",
          "name": "stdout",
          "text": [
            "               date  date_block_num  shop_id  item_id  item_price  \\\n",
            "0        02.01.2013               0       59    22154      999.00   \n",
            "1        03.01.2013               0       25     2552      899.00   \n",
            "2        05.01.2013               0       25     2552      899.00   \n",
            "3        06.01.2013               0       25     2554     1709.05   \n",
            "4        15.01.2013               0       25     2555     1099.00   \n",
            "...             ...             ...      ...      ...         ...   \n",
            "2935844  10.10.2015              33       25     7409      299.00   \n",
            "2935845  09.10.2015              33       25     7460      299.00   \n",
            "2935846  14.10.2015              33       25     7459      349.00   \n",
            "2935847  22.10.2015              33       25     7440      299.00   \n",
            "2935848  03.10.2015              33       25     7460      299.00   \n",
            "\n",
            "         item_cnt_day  \n",
            "0                 1.0  \n",
            "1                 1.0  \n",
            "2                 0.0  \n",
            "3                 1.0  \n",
            "4                 1.0  \n",
            "...               ...  \n",
            "2935844           1.0  \n",
            "2935845           1.0  \n",
            "2935846           1.0  \n",
            "2935847           1.0  \n",
            "2935848           1.0  \n",
            "\n",
            "[2935849 rows x 6 columns]\n"
          ]
        }
      ]
    },
    {
      "cell_type": "markdown",
      "source": [
        "2. item_price, item_cnt_day 이상치"
      ],
      "metadata": {
        "id": "zNBKj2jYbctF"
      }
    },
    {
      "cell_type": "code",
      "source": [
        "pip install scikit-learn pandas"
      ],
      "metadata": {
        "colab": {
          "base_uri": "https://localhost:8080/"
        },
        "id": "JsXxPpoayfHM",
        "outputId": "c34e7a3f-af9d-4091-a0da-420145c3bda8"
      },
      "execution_count": null,
      "outputs": [
        {
          "output_type": "stream",
          "name": "stdout",
          "text": [
            "Requirement already satisfied: scikit-learn in /usr/local/lib/python3.10/dist-packages (1.2.2)\n",
            "Requirement already satisfied: pandas in /usr/local/lib/python3.10/dist-packages (2.0.3)\n",
            "Requirement already satisfied: numpy>=1.17.3 in /usr/local/lib/python3.10/dist-packages (from scikit-learn) (1.25.2)\n",
            "Requirement already satisfied: scipy>=1.3.2 in /usr/local/lib/python3.10/dist-packages (from scikit-learn) (1.11.4)\n",
            "Requirement already satisfied: joblib>=1.1.1 in /usr/local/lib/python3.10/dist-packages (from scikit-learn) (1.4.2)\n",
            "Requirement already satisfied: threadpoolctl>=2.0.0 in /usr/local/lib/python3.10/dist-packages (from scikit-learn) (3.5.0)\n",
            "Requirement already satisfied: python-dateutil>=2.8.2 in /usr/local/lib/python3.10/dist-packages (from pandas) (2.8.2)\n",
            "Requirement already satisfied: pytz>=2020.1 in /usr/local/lib/python3.10/dist-packages (from pandas) (2023.4)\n",
            "Requirement already satisfied: tzdata>=2022.1 in /usr/local/lib/python3.10/dist-packages (from pandas) (2024.1)\n",
            "Requirement already satisfied: six>=1.5 in /usr/local/lib/python3.10/dist-packages (from python-dateutil>=2.8.2->pandas) (1.16.0)\n"
          ]
        }
      ]
    },
    {
      "cell_type": "code",
      "source": [
        "from sklearn.decomposition import PCA\n",
        "from sklearn.preprocessing import StandardScaler\n",
        "import matplotlib.pyplot as plt\n",
        "\n",
        "# 수치형 데이터만 선택\n",
        "numeric_df = train_df.select_dtypes(include=[np.number])\n",
        "\n",
        "# 데이터 표준화\n",
        "scaler = StandardScaler()\n",
        "scaled_data = scaler.fit_transform(numeric_df)\n",
        "\n",
        "# PCA 수행\n",
        "pca = PCA(n_components=2)\n",
        "pca_data = pca.fit_transform(scaled_data)\n",
        "\n",
        "# PCA 결과를 데이터프레임으로 변환\n",
        "pca_df = pd.DataFrame(data=pca_data, columns=['item_price', 'item_cnt_day'])\n",
        "\n",
        "# 이상치 탐지 (z-점수 기준)\n",
        "def find_outliers_pca(pca_df, threshold=100):\n",
        "    z_scores = np.abs(pca_df.apply(zscore))\n",
        "    outliers = (z_scores > threshold).any(axis=1)\n",
        "    return pca_df[outliers]\n",
        "\n",
        "# z-점수를 계산하는 함수\n",
        "def zscore(series):\n",
        "    return (series - series.mean()) / series.std()\n",
        "\n",
        "# 이상치 찾기\n",
        "outliers_pca = find_outliers_pca(pca_df)\n",
        "print(\"PCA 결과에서 이상치:\\n\", outliers_pca)\n",
        "\n",
        "# 원본 데이터의 이상치 인덱스\n",
        "outlier_indices = outliers_pca.index\n",
        "original_outliers = train_df.loc[outlier_indices]\n",
        "print(\"\\n원본 데이터에서 이상치:\\n\", original_outliers)\n",
        "\n",
        "# PCA 결과 시각화\n",
        "plt.scatter(pca_df['item_price'], pca_df['item_cnt_day'], label='Normal Data')\n",
        "plt.scatter(outliers_pca['item_price'], outliers_pca['item_cnt_day'], color='red', label='Outliers')\n",
        "plt.xlabel('Principal Component 1')\n",
        "plt.ylabel('Principal Component 2')\n",
        "plt.legend()\n",
        "plt.title('PCA Outlier Detection')\n",
        "plt.show()"
      ],
      "metadata": {
        "colab": {
          "base_uri": "https://localhost:8080/",
          "height": 761
        },
        "id": "SvLJ4P_3ymwF",
        "outputId": "f97a3b02-6752-4389-ff32-84c287f0e6be"
      },
      "execution_count": null,
      "outputs": [
        {
          "output_type": "stream",
          "name": "stdout",
          "text": [
            "PCA 결과에서 이상치:\n",
            "          item_price  item_cnt_day\n",
            "1163158  126.241706     15.506166\n",
            "2326930    5.629769    110.915558\n",
            "2909818   14.363570    240.128830\n",
            "\n",
            "원본 데이터에서 이상치:\n",
            "                date  date_block_num  shop_id  item_id     item_price  \\\n",
            "1163158  13.12.2013              11       12     6066  307980.000000   \n",
            "2326930  15.01.2015              24       12    20949       4.000000   \n",
            "2909818  28.10.2015              33       12    11373       0.908714   \n",
            "\n",
            "         item_cnt_day  \n",
            "1163158           1.0  \n",
            "2326930        1000.0  \n",
            "2909818        2169.0  \n"
          ]
        },
        {
          "output_type": "display_data",
          "data": {
            "text/plain": [
              "<Figure size 640x480 with 1 Axes>"
            ],
            "image/png": "[encoded data removed]"
          },
          "metadata": {}
        }
      ]
    },
    {
      "cell_type": "code",
      "source": [
        "# 각 열의 중앙값 계산\n",
        "medians = train_df['item_price'].median()\n",
        "print(medians)"
      ],
      "metadata": {
        "id": "xtYR1r3Fb1jW",
        "colab": {
          "base_uri": "https://localhost:8080/"
        },
        "outputId": "39c49759-645a-456d-dce9-e56e70e91270"
      },
      "execution_count": null,
      "outputs": [
        {
          "output_type": "stream",
          "name": "stdout",
          "text": [
            "399.0\n"
          ]
        }
      ]
    },
    {
      "cell_type": "code",
      "source": [
        "def change_value(df, row_index, column_name, new_value):\n",
        "    train_df.at[row_index, column_name] = new_value\n",
        "\n",
        "row_index = 1163158\n",
        "column_name = 'item_price'\n",
        "new_value = 399.0\n",
        "\n",
        "change_value(train_df, row_index, column_name, new_value)"
      ],
      "metadata": {
        "id": "Vq2WPYEyk4Pu"
      },
      "execution_count": null,
      "outputs": []
    },
    {
      "cell_type": "code",
      "source": [
        "train_df.loc[1163158]"
      ],
      "metadata": {
        "id": "Yw8TeFnqdpFl",
        "colab": {
          "base_uri": "https://localhost:8080/"
        },
        "outputId": "ce8bbb79-e43c-4d86-d78e-d7e33df47598"
      },
      "execution_count": null,
      "outputs": [
        {
          "output_type": "execute_result",
          "data": {
            "text/plain": [
              "date              13.12.2013\n",
              "date_block_num            11\n",
              "shop_id                   12\n",
              "item_id                 6066\n",
              "item_price             399.0\n",
              "item_cnt_day             1.0\n",
              "Name: 1163158, dtype: object"
            ]
          },
          "metadata": {},
          "execution_count": 12
        }
      ]
    },
    {
      "cell_type": "code",
      "source": [
        "items_df.loc[6066]"
      ],
      "metadata": {
        "id": "_LhpoCQJk3Dw",
        "colab": {
          "base_uri": "https://localhost:8080/"
        },
        "outputId": "7c07ad6d-60d6-4497-c54c-08432e0a58e0"
      },
      "execution_count": null,
      "outputs": [
        {
          "output_type": "execute_result",
          "data": {
            "text/plain": [
              "item_name           Radmin 3  - 522 лиц.\n",
              "item_id                             6066\n",
              "item_category_id                      75\n",
              "Name: 6066, dtype: object"
            ]
          },
          "metadata": {},
          "execution_count": 13
        }
      ]
    },
    {
      "cell_type": "code",
      "source": [
        "item_cat_df.loc[75]"
      ],
      "metadata": {
        "id": "1Pj07yYCmN2N",
        "colab": {
          "base_uri": "https://localhost:8080/"
        },
        "outputId": "a073e6d7-4b8a-4375-c516-691fe63ad2ec"
      },
      "execution_count": null,
      "outputs": [
        {
          "output_type": "execute_result",
          "data": {
            "text/plain": [
              "item_category_name    Программы - Для дома и офиса\n",
              "item_category_id                                75\n",
              "Name: 75, dtype: object"
            ]
          },
          "metadata": {},
          "execution_count": 14
        }
      ]
    },
    {
      "cell_type": "markdown",
      "source": [
        "Program - For home and office (프로그램-가정 및 사무실용)"
      ],
      "metadata": {
        "id": "u6aVlKUymqdS"
      }
    },
    {
      "cell_type": "code",
      "source": [
        "sns.boxplot(y='item_price', data=train_df)"
      ],
      "metadata": {
        "id": "_t5Mu-3jnOaF",
        "colab": {
          "base_uri": "https://localhost:8080/",
          "height": 429
        },
        "outputId": "8af41c7e-15d2-4a06-e123-1d687f375800"
      },
      "execution_count": null,
      "outputs": [
        {
          "output_type": "execute_result",
          "data": {
            "text/plain": [
              "<Axes: ylabel='item_price'>"
            ]
          },
          "metadata": {},
          "execution_count": 15
        },
        {
          "output_type": "display_data",
          "data": {
            "text/plain": [
              "<Figure size 640x480 with 1 Axes>"
            ],
            "image/png": "[encoded data removed]"
          },
          "metadata": {}
        }
      ]
    },
    {
      "cell_type": "code",
      "source": [
        "# 각 열의 중앙값 계산\n",
        "medians = train_df['item_cnt_day'].median()\n",
        "print(medians)"
      ],
      "metadata": {
        "id": "FPHQ1VATntbl",
        "colab": {
          "base_uri": "https://localhost:8080/"
        },
        "outputId": "4141ecf1-7eb9-4c03-ee2b-ddf0d0aeb281"
      },
      "execution_count": null,
      "outputs": [
        {
          "output_type": "stream",
          "name": "stdout",
          "text": [
            "1.0\n"
          ]
        }
      ]
    },
    {
      "cell_type": "code",
      "source": [
        "# column_name 열에서 특정 값 이상인 데이터 행 확인\n",
        "filtered_rows = train_df[train_df['item_cnt_day'] >= 1000].index.tolist()\n",
        "\n",
        "# 확인된 데이터 행 출력\n",
        "print(filtered_rows)"
      ],
      "metadata": {
        "id": "BA8OuUuXoTKQ",
        "colab": {
          "base_uri": "https://localhost:8080/"
        },
        "outputId": "5d038f51-8324-48f7-e95c-740c4ae9d265"
      },
      "execution_count": null,
      "outputs": [
        {
          "output_type": "stream",
          "name": "stdout",
          "text": [
            "[2326930, 2909818]\n"
          ]
        }
      ]
    },
    {
      "cell_type": "code",
      "source": [
        "row_index = 2326930, 2909818\n",
        "column_name = 'item_cnt_day'\n",
        "new_value = 1.0\n",
        "\n",
        "change_value(train_df, row_index, column_name, new_value)"
      ],
      "metadata": {
        "id": "3SaxhQBGn0is"
      },
      "execution_count": null,
      "outputs": []
    },
    {
      "cell_type": "code",
      "source": [
        "sns.boxplot(y='item_cnt_day', data=train_df)"
      ],
      "metadata": {
        "id": "yp9AqE9CroL_",
        "colab": {
          "base_uri": "https://localhost:8080/",
          "height": 433
        },
        "outputId": "bac38264-1760-44f9-8f75-d10beb86981e"
      },
      "execution_count": null,
      "outputs": [
        {
          "output_type": "execute_result",
          "data": {
            "text/plain": [
              "<Axes: ylabel='item_cnt_day'>"
            ]
          },
          "metadata": {},
          "execution_count": 19
        },
        {
          "output_type": "display_data",
          "data": {
            "text/plain": [
              "<Figure size 640x480 with 1 Axes>"
            ],
            "image/png": "[encoded data removed]"
          },
          "metadata": {}
        }
      ]
    },
    {
      "cell_type": "markdown",
      "source": [
        "#<데이터프레임 병합 및 파생변수>"
      ],
      "metadata": {
        "id": "1zHsl8qdvL37"
      }
    },
    {
      "cell_type": "code",
      "source": [
        "shops_en = pd.read_csv('/content/drive/MyDrive/데이터/미래 매출/shops_en.csv')\n",
        "items_en = pd.read_csv('/content/drive/MyDrive/데이터/미래 매출/items_en.csv')\n",
        "item_cat_en = pd.read_csv('/content/drive/MyDrive/데이터/미래 매출/item_categories_en.csv')"
      ],
      "metadata": {
        "id": "LXx6RFAE7Kf6"
      },
      "execution_count": null,
      "outputs": []
    },
    {
      "cell_type": "code",
      "source": [
        "#데이터프레임 병합\n",
        "# 첫 번째 병합\n",
        "train_with_shops = train_df.merge(shops_en, on='shop_id', how='left')\n",
        "\n",
        "# 두 번째 병합\n",
        "train_with_shops_and_items = train_with_shops.merge(items_en, on='item_id', how='left')\n",
        "\n",
        "# 세 번째 병합\n",
        "train_merged = train_with_shops_and_items.merge(item_cat_en, on='item_category_id', how='left')\n",
        "\n",
        "# 최종 병합된 데이터프레임 확인\n",
        "train_merged.head()"
      ],
      "metadata": {
        "id": "vxU2ZC60vR7C",
        "colab": {
          "base_uri": "https://localhost:8080/",
          "height": 293
        },
        "outputId": "dd178358-be18-476a-eb98-ba6f27ccd16d"
      },
      "execution_count": null,
      "outputs": [
        {
          "output_type": "execute_result",
          "data": {
            "text/plain": [
              "         date  date_block_num  shop_id  item_id  item_price  item_cnt_day  \\\n",
              "0  02.01.2013               0       59    22154      999.00           1.0   \n",
              "1  03.01.2013               0       25     2552      899.00           1.0   \n",
              "2  05.01.2013               0       25     2552      899.00           0.0   \n",
              "3  06.01.2013               0       25     2554     1709.05           1.0   \n",
              "4  15.01.2013               0       25     2555     1099.00           1.0   \n",
              "\n",
              "                            shop_name  \\\n",
              "0  Yaroslavl shopping center \"Altair\"   \n",
              "1                 Moscow TRC \"Atrium\"   \n",
              "2                 Moscow TRC \"Atrium\"   \n",
              "3                 Moscow TRC \"Atrium\"   \n",
              "4                 Moscow TRC \"Atrium\"   \n",
              "\n",
              "                                  item_name  item_category_id  \\\n",
              "0                           Scene 2012 (BD)                37   \n",
              "1  DEEP PURPLE  The House Of Blue Light  LP                58   \n",
              "2  DEEP PURPLE  The House Of Blue Light  LP                58   \n",
              "3  DEEP PURPLE  Who Do You Think We Are  LP                58   \n",
              "4   DEEP PURPLE 30 Very Best Of 2CD (Фирм.)                56   \n",
              "\n",
              "           item_category_name  \n",
              "0            Movies - Blu-Ray  \n",
              "1               Music - Vinyl  \n",
              "2               Music - Vinyl  \n",
              "3               Music - Vinyl  \n",
              "4  Music - CD production firm  "
            ],
            "text/html": [
              "\n",
              "  <div id=\"df-4b185ed6-d246-430d-b1fe-7019d87cc576\" class=\"colab-df-container\">\n",
              "    <div>\n",
              "<style scoped>\n",
              "    .dataframe tbody tr th:only-of-type {\n",
              "        vertical-align: middle;\n",
              "    }\n",
              "\n",
              "    .dataframe tbody tr th {\n",
              "        vertical-align: top;\n",
              "    }\n",
              "\n",
              "    .dataframe thead th {\n",
              "        text-align: right;\n",
              "    }\n",
              "</style>\n",
              "<table border=\"1\" class=\"dataframe\">\n",
              "  <thead>\n",
              "    <tr style=\"text-align: right;\">\n",
              "      <th></th>\n",
              "      <th>date</th>\n",
              "      <th>date_block_num</th>\n",
              "      <th>shop_id</th>\n",
              "      <th>item_id</th>\n",
              "      <th>item_price</th>\n",
              "      <th>item_cnt_day</th>\n",
              "      <th>shop_name</th>\n",
              "      <th>item_name</th>\n",
              "      <th>item_category_id</th>\n",
              "      <th>item_category_name</th>\n",
              "    </tr>\n",
              "  </thead>\n",
              "  <tbody>\n",
              "    <tr>\n",
              "      <th>0</th>\n",
              "      <td>02.01.2013</td>\n",
              "      <td>0</td>\n",
              "      <td>59</td>\n",
              "      <td>22154</td>\n",
              "      <td>999.00</td>\n",
              "      <td>1.0</td>\n",
              "      <td>Yaroslavl shopping center \"Altair\"</td>\n",
              "      <td>Scene 2012 (BD)</td>\n",
              "      <td>37</td>\n",
              "      <td>Movies - Blu-Ray</td>\n",
              "    </tr>\n",
              "    <tr>\n",
              "      <th>1</th>\n",
              "      <td>03.01.2013</td>\n",
              "      <td>0</td>\n",
              "      <td>25</td>\n",
              "      <td>2552</td>\n",
              "      <td>899.00</td>\n",
              "      <td>1.0</td>\n",
              "      <td>Moscow TRC \"Atrium\"</td>\n",
              "      <td>DEEP PURPLE  The House Of Blue Light  LP</td>\n",
              "      <td>58</td>\n",
              "      <td>Music - Vinyl</td>\n",
              "    </tr>\n",
              "    <tr>\n",
              "      <th>2</th>\n",
              "      <td>05.01.2013</td>\n",
              "      <td>0</td>\n",
              "      <td>25</td>\n",
              "      <td>2552</td>\n",
              "      <td>899.00</td>\n",
              "      <td>0.0</td>\n",
              "      <td>Moscow TRC \"Atrium\"</td>\n",
              "      <td>DEEP PURPLE  The House Of Blue Light  LP</td>\n",
              "      <td>58</td>\n",
              "      <td>Music - Vinyl</td>\n",
              "    </tr>\n",
              "    <tr>\n",
              "      <th>3</th>\n",
              "      <td>06.01.2013</td>\n",
              "      <td>0</td>\n",
              "      <td>25</td>\n",
              "      <td>2554</td>\n",
              "      <td>1709.05</td>\n",
              "      <td>1.0</td>\n",
              "      <td>Moscow TRC \"Atrium\"</td>\n",
              "      <td>DEEP PURPLE  Who Do You Think We Are  LP</td>\n",
              "      <td>58</td>\n",
              "      <td>Music - Vinyl</td>\n",
              "    </tr>\n",
              "    <tr>\n",
              "      <th>4</th>\n",
              "      <td>15.01.2013</td>\n",
              "      <td>0</td>\n",
              "      <td>25</td>\n",
              "      <td>2555</td>\n",
              "      <td>1099.00</td>\n",
              "      <td>1.0</td>\n",
              "      <td>Moscow TRC \"Atrium\"</td>\n",
              "      <td>DEEP PURPLE 30 Very Best Of 2CD (Фирм.)</td>\n",
              "      <td>56</td>\n",
              "      <td>Music - CD production firm</td>\n",
              "    </tr>\n",
              "  </tbody>\n",
              "</table>\n",
              "</div>\n",
              "    <div class=\"colab-df-buttons\">\n",
              "\n",
              "  <div class=\"colab-df-container\">\n",
              "    <button class=\"colab-df-convert\" onclick=\"convertToInteractive('df-4b185ed6-d246-430d-b1fe-7019d87cc576')\"\n",
              "            title=\"Convert this dataframe to an interactive table.\"\n",
              "            style=\"display:none;\">\n",
              "\n",
              "  <svg xmlns=\"http://www.w3.org/2000/svg\" height=\"24px\" viewBox=\"0 -960 960 960\">\n",
              "    <path d=\"M120-120v-720h720v720H120Zm60-500h600v-160H180v160Zm220 220h160v-160H400v160Zm0 220h160v-160H400v160ZM180-400h160v-160H180v160Zm440 0h160v-160H620v160ZM180-180h160v-160H180v160Zm440 0h160v-160H620v160Z\"/>\n",
              "  </svg>\n",
              "    </button>\n",
              "\n",
              "  <style>\n",
              "    .colab-df-container {\n",
              "      display:flex;\n",
              "      gap: 12px;\n",
              "    }\n",
              "\n",
              "    .colab-df-convert {\n",
              "      background-color: #E8F0FE;\n",
              "      border: none;\n",
              "      border-radius: 50%;\n",
              "      cursor: pointer;\n",
              "      display: none;\n",
              "      fill: #1967D2;\n",
              "      height: 32px;\n",
              "      padding: 0 0 0 0;\n",
              "      width: 32px;\n",
              "    }\n",
              "\n",
              "    .colab-df-convert:hover {\n",
              "      background-color: #E2EBFA;\n",
              "      box-shadow: 0px 1px 2px rgba(60, 64, 67, 0.3), 0px 1px 3px 1px rgba(60, 64, 67, 0.15);\n",
              "      fill: #174EA6;\n",
              "    }\n",
              "\n",
              "    .colab-df-buttons div {\n",
              "      margin-bottom: 4px;\n",
              "    }\n",
              "\n",
              "    [theme=dark] .colab-df-convert {\n",
              "      background-color: #3B4455;\n",
              "      fill: #D2E3FC;\n",
              "    }\n",
              "\n",
              "    [theme=dark] .colab-df-convert:hover {\n",
              "      background-color: #434B5C;\n",
              "      box-shadow: 0px 1px 3px 1px rgba(0, 0, 0, 0.15);\n",
              "      filter: drop-shadow(0px 1px 2px rgba(0, 0, 0, 0.3));\n",
              "      fill: #FFFFFF;\n",
              "    }\n",
              "  </style>\n",
              "\n",
              "    <script>\n",
              "      const buttonEl =\n",
              "        document.querySelector('#df-4b185ed6-d246-430d-b1fe-7019d87cc576 button.colab-df-convert');\n",
              "      buttonEl.style.display =\n",
              "        google.colab.kernel.accessAllowed ? 'block' : 'none';\n",
              "\n",
              "      async function convertToInteractive(key) {\n",
              "        const element = document.querySelector('#df-4b185ed6-d246-430d-b1fe-7019d87cc576');\n",
              "        const dataTable =\n",
              "          await google.colab.kernel.invokeFunction('convertToInteractive',\n",
              "                                                    [key], {});\n",
              "        if (!dataTable) return;\n",
              "\n",
              "        const docLinkHtml = 'Like what you see? Visit the ' +\n",
              "          '<a target=\"_blank\" href=https://colab.research.google.com/notebooks/data_table.ipynb>data table notebook</a>'\n",
              "          + ' to learn more about interactive tables.';\n",
              "        element.innerHTML = '';\n",
              "        dataTable['output_type'] = 'display_data';\n",
              "        await google.colab.output.renderOutput(dataTable, element);\n",
              "        const docLink = document.createElement('div');\n",
              "        docLink.innerHTML = docLinkHtml;\n",
              "        element.appendChild(docLink);\n",
              "      }\n",
              "    </script>\n",
              "  </div>\n",
              "\n",
              "\n",
              "<div id=\"df-6019a38c-02a3-4b1d-bac5-8855dc90a897\">\n",
              "  <button class=\"colab-df-quickchart\" onclick=\"quickchart('df-6019a38c-02a3-4b1d-bac5-8855dc90a897')\"\n",
              "            title=\"Suggest charts\"\n",
              "            style=\"display:none;\">\n",
              "\n",
              "<svg xmlns=\"http://www.w3.org/2000/svg\" height=\"24px\"viewBox=\"0 0 24 24\"\n",
              "     width=\"24px\">\n",
              "    <g>\n",
              "        <path d=\"M19 3H5c-1.1 0-2 .9-2 2v14c0 1.1.9 2 2 2h14c1.1 0 2-.9 2-2V5c0-1.1-.9-2-2-2zM9 17H7v-7h2v7zm4 0h-2V7h2v10zm4 0h-2v-4h2v4z\"/>\n",
              "    </g>\n",
              "</svg>\n",
              "  </button>\n",
              "\n",
              "<style>\n",
              "  .colab-df-quickchart {\n",
              "      --bg-color: #E8F0FE;\n",
              "      --fill-color: #1967D2;\n",
              "      --hover-bg-color: #E2EBFA;\n",
              "      --hover-fill-color: #174EA6;\n",
              "      --disabled-fill-color: #AAA;\n",
              "      --disabled-bg-color: #DDD;\n",
              "  }\n",
              "\n",
              "  [theme=dark] .colab-df-quickchart {\n",
              "      --bg-color: #3B4455;\n",
              "      --fill-color: #D2E3FC;\n",
              "      --hover-bg-color: #434B5C;\n",
              "      --hover-fill-color: #FFFFFF;\n",
              "      --disabled-bg-color: #3B4455;\n",
              "      --disabled-fill-color: #666;\n",
              "  }\n",
              "\n",
              "  .colab-df-quickchart {\n",
              "    background-color: var(--bg-color);\n",
              "    border: none;\n",
              "    border-radius: 50%;\n",
              "    cursor: pointer;\n",
              "    display: none;\n",
              "    fill: var(--fill-color);\n",
              "    height: 32px;\n",
              "    padding: 0;\n",
              "    width: 32px;\n",
              "  }\n",
              "\n",
              "  .colab-df-quickchart:hover {\n",
              "    background-color: var(--hover-bg-color);\n",
              "    box-shadow: 0 1px 2px rgba(60, 64, 67, 0.3), 0 1px 3px 1px rgba(60, 64, 67, 0.15);\n",
              "    fill: var(--button-hover-fill-color);\n",
              "  }\n",
              "\n",
              "  .colab-df-quickchart-complete:disabled,\n",
              "  .colab-df-quickchart-complete:disabled:hover {\n",
              "    background-color: var(--disabled-bg-color);\n",
              "    fill: var(--disabled-fill-color);\n",
              "    box-shadow: none;\n",
              "  }\n",
              "\n",
              "  .colab-df-spinner {\n",
              "    border: 2px solid var(--fill-color);\n",
              "    border-color: transparent;\n",
              "    border-bottom-color: var(--fill-color);\n",
              "    animation:\n",
              "      spin 1s steps(1) infinite;\n",
              "  }\n",
              "\n",
              "  @keyframes spin {\n",
              "    0% {\n",
              "      border-color: transparent;\n",
              "      border-bottom-color: var(--fill-color);\n",
              "      border-left-color: var(--fill-color);\n",
              "    }\n",
              "    20% {\n",
              "      border-color: transparent;\n",
              "      border-left-color: var(--fill-color);\n",
              "      border-top-color: var(--fill-color);\n",
              "    }\n",
              "    30% {\n",
              "      border-color: transparent;\n",
              "      border-left-color: var(--fill-color);\n",
              "      border-top-color: var(--fill-color);\n",
              "      border-right-color: var(--fill-color);\n",
              "    }\n",
              "    40% {\n",
              "      border-color: transparent;\n",
              "      border-right-color: var(--fill-color);\n",
              "      border-top-color: var(--fill-color);\n",
              "    }\n",
              "    60% {\n",
              "      border-color: transparent;\n",
              "      border-right-color: var(--fill-color);\n",
              "    }\n",
              "    80% {\n",
              "      border-color: transparent;\n",
              "      border-right-color: var(--fill-color);\n",
              "      border-bottom-color: var(--fill-color);\n",
              "    }\n",
              "    90% {\n",
              "      border-color: transparent;\n",
              "      border-bottom-color: var(--fill-color);\n",
              "    }\n",
              "  }\n",
              "</style>\n",
              "\n",
              "  <script>\n",
              "    async function quickchart(key) {\n",
              "      const quickchartButtonEl =\n",
              "        document.querySelector('#' + key + ' button');\n",
              "      quickchartButtonEl.disabled = true;  // To prevent multiple clicks.\n",
              "      quickchartButtonEl.classList.add('colab-df-spinner');\n",
              "      try {\n",
              "        const charts = await google.colab.kernel.invokeFunction(\n",
              "            'suggestCharts', [key], {});\n",
              "      } catch (error) {\n",
              "        console.error('Error during call to suggestCharts:', error);\n",
              "      }\n",
              "      quickchartButtonEl.classList.remove('colab-df-spinner');\n",
              "      quickchartButtonEl.classList.add('colab-df-quickchart-complete');\n",
              "    }\n",
              "    (() => {\n",
              "      let quickchartButtonEl =\n",
              "        document.querySelector('#df-6019a38c-02a3-4b1d-bac5-8855dc90a897 button');\n",
              "      quickchartButtonEl.style.display =\n",
              "        google.colab.kernel.accessAllowed ? 'block' : 'none';\n",
              "    })();\n",
              "  </script>\n",
              "</div>\n",
              "\n",
              "    </div>\n",
              "  </div>\n"
            ],
            "application/vnd.google.colaboratory.intrinsic+json": {
              "type": "dataframe",
              "variable_name": "train_merged"
            }
          },
          "metadata": {},
          "execution_count": 21
        }
      ]
    },
    {
      "cell_type": "code",
      "source": [
        "# date_block_num와 item_cnt_day를 그룹화하고 item_cnt_month 파생변수 생성\n",
        "train_merged['item_cnt_month'] = train_merged.groupby('date_block_num')['item_cnt_day'].transform('sum')\n",
        "\n",
        "# 결과 확인\n",
        "train_merged.head()"
      ],
      "metadata": {
        "id": "DtLRs4DMkRrl",
        "colab": {
          "base_uri": "https://localhost:8080/"
        },
        "outputId": "b010ce04-0241-4b7a-c0e2-f2068a5348b8"
      },
      "execution_count": null,
      "outputs": [
        {
          "output_type": "execute_result",
          "data": {
            "text/plain": [
              "         date  date_block_num  shop_id  item_id  item_price  item_cnt_day  \\\n",
              "0  02.01.2013               0       59    22154      999.00           1.0   \n",
              "1  03.01.2013               0       25     2552      899.00           1.0   \n",
              "2  05.01.2013               0       25     2552      899.00           0.0   \n",
              "3  06.01.2013               0       25     2554     1709.05           1.0   \n",
              "4  15.01.2013               0       25     2555     1099.00           1.0   \n",
              "\n",
              "                            shop_name  \\\n",
              "0  Yaroslavl shopping center \"Altair\"   \n",
              "1                 Moscow TRC \"Atrium\"   \n",
              "2                 Moscow TRC \"Atrium\"   \n",
              "3                 Moscow TRC \"Atrium\"   \n",
              "4                 Moscow TRC \"Atrium\"   \n",
              "\n",
              "                                  item_name  item_category_id  \\\n",
              "0                           Scene 2012 (BD)                37   \n",
              "1  DEEP PURPLE  The House Of Blue Light  LP                58   \n",
              "2  DEEP PURPLE  The House Of Blue Light  LP                58   \n",
              "3  DEEP PURPLE  Who Do You Think We Are  LP                58   \n",
              "4   DEEP PURPLE 30 Very Best Of 2CD (Фирм.)                56   \n",
              "\n",
              "           item_category_name  item_cnt_month  \n",
              "0            Movies - Blu-Ray        131850.0  \n",
              "1               Music - Vinyl        131850.0  \n",
              "2               Music - Vinyl        131850.0  \n",
              "3               Music - Vinyl        131850.0  \n",
              "4  Music - CD production firm        131850.0  "
            ],
            "text/html": [
              "\n",
              "  <div id=\"df-6ba8ab28-fe58-422b-a82b-34eb578e0d66\" class=\"colab-df-container\">\n",
              "    <div>\n",
              "<style scoped>\n",
              "    .dataframe tbody tr th:only-of-type {\n",
              "        vertical-align: middle;\n",
              "    }\n",
              "\n",
              "    .dataframe tbody tr th {\n",
              "        vertical-align: top;\n",
              "    }\n",
              "\n",
              "    .dataframe thead th {\n",
              "        text-align: right;\n",
              "    }\n",
              "</style>\n",
              "<table border=\"1\" class=\"dataframe\">\n",
              "  <thead>\n",
              "    <tr style=\"text-align: right;\">\n",
              "      <th></th>\n",
              "      <th>date</th>\n",
              "      <th>date_block_num</th>\n",
              "      <th>shop_id</th>\n",
              "      <th>item_id</th>\n",
              "      <th>item_price</th>\n",
              "      <th>item_cnt_day</th>\n",
              "      <th>shop_name</th>\n",
              "      <th>item_name</th>\n",
              "      <th>item_category_id</th>\n",
              "      <th>item_category_name</th>\n",
              "      <th>item_cnt_month</th>\n",
              "    </tr>\n",
              "  </thead>\n",
              "  <tbody>\n",
              "    <tr>\n",
              "      <th>0</th>\n",
              "      <td>02.01.2013</td>\n",
              "      <td>0</td>\n",
              "      <td>59</td>\n",
              "      <td>22154</td>\n",
              "      <td>999.00</td>\n",
              "      <td>1.0</td>\n",
              "      <td>Yaroslavl shopping center \"Altair\"</td>\n",
              "      <td>Scene 2012 (BD)</td>\n",
              "      <td>37</td>\n",
              "      <td>Movies - Blu-Ray</td>\n",
              "      <td>131850.0</td>\n",
              "    </tr>\n",
              "    <tr>\n",
              "      <th>1</th>\n",
              "      <td>03.01.2013</td>\n",
              "      <td>0</td>\n",
              "      <td>25</td>\n",
              "      <td>2552</td>\n",
              "      <td>899.00</td>\n",
              "      <td>1.0</td>\n",
              "      <td>Moscow TRC \"Atrium\"</td>\n",
              "      <td>DEEP PURPLE  The House Of Blue Light  LP</td>\n",
              "      <td>58</td>\n",
              "      <td>Music - Vinyl</td>\n",
              "      <td>131850.0</td>\n",
              "    </tr>\n",
              "    <tr>\n",
              "      <th>2</th>\n",
              "      <td>05.01.2013</td>\n",
              "      <td>0</td>\n",
              "      <td>25</td>\n",
              "      <td>2552</td>\n",
              "      <td>899.00</td>\n",
              "      <td>0.0</td>\n",
              "      <td>Moscow TRC \"Atrium\"</td>\n",
              "      <td>DEEP PURPLE  The House Of Blue Light  LP</td>\n",
              "      <td>58</td>\n",
              "      <td>Music - Vinyl</td>\n",
              "      <td>131850.0</td>\n",
              "    </tr>\n",
              "    <tr>\n",
              "      <th>3</th>\n",
              "      <td>06.01.2013</td>\n",
              "      <td>0</td>\n",
              "      <td>25</td>\n",
              "      <td>2554</td>\n",
              "      <td>1709.05</td>\n",
              "      <td>1.0</td>\n",
              "      <td>Moscow TRC \"Atrium\"</td>\n",
              "      <td>DEEP PURPLE  Who Do You Think We Are  LP</td>\n",
              "      <td>58</td>\n",
              "      <td>Music - Vinyl</td>\n",
              "      <td>131850.0</td>\n",
              "    </tr>\n",
              "    <tr>\n",
              "      <th>4</th>\n",
              "      <td>15.01.2013</td>\n",
              "      <td>0</td>\n",
              "      <td>25</td>\n",
              "      <td>2555</td>\n",
              "      <td>1099.00</td>\n",
              "      <td>1.0</td>\n",
              "      <td>Moscow TRC \"Atrium\"</td>\n",
              "      <td>DEEP PURPLE 30 Very Best Of 2CD (Фирм.)</td>\n",
              "      <td>56</td>\n",
              "      <td>Music - CD production firm</td>\n",
              "      <td>131850.0</td>\n",
              "    </tr>\n",
              "  </tbody>\n",
              "</table>\n",
              "</div>\n",
              "    <div class=\"colab-df-buttons\">\n",
              "\n",
              "  <div class=\"colab-df-container\">\n",
              "    <button class=\"colab-df-convert\" onclick=\"convertToInteractive('df-6ba8ab28-fe58-422b-a82b-34eb578e0d66')\"\n",
              "            title=\"Convert this dataframe to an interactive table.\"\n",
              "            style=\"display:none;\">\n",
              "\n",
              "  <svg xmlns=\"http://www.w3.org/2000/svg\" height=\"24px\" viewBox=\"0 -960 960 960\">\n",
              "    <path d=\"M120-120v-720h720v720H120Zm60-500h600v-160H180v160Zm220 220h160v-160H400v160Zm0 220h160v-160H400v160ZM180-400h160v-160H180v160Zm440 0h160v-160H620v160ZM180-180h160v-160H180v160Zm440 0h160v-160H620v160Z\"/>\n",
              "  </svg>\n",
              "    </button>\n",
              "\n",
              "  <style>\n",
              "    .colab-df-container {\n",
              "      display:flex;\n",
              "      gap: 12px;\n",
              "    }\n",
              "\n",
              "    .colab-df-convert {\n",
              "      background-color: #E8F0FE;\n",
              "      border: none;\n",
              "      border-radius: 50%;\n",
              "      cursor: pointer;\n",
              "      display: none;\n",
              "      fill: #1967D2;\n",
              "      height: 32px;\n",
              "      padding: 0 0 0 0;\n",
              "      width: 32px;\n",
              "    }\n",
              "\n",
              "    .colab-df-convert:hover {\n",
              "      background-color: #E2EBFA;\n",
              "      box-shadow: 0px 1px 2px rgba(60, 64, 67, 0.3), 0px 1px 3px 1px rgba(60, 64, 67, 0.15);\n",
              "      fill: #174EA6;\n",
              "    }\n",
              "\n",
              "    .colab-df-buttons div {\n",
              "      margin-bottom: 4px;\n",
              "    }\n",
              "\n",
              "    [theme=dark] .colab-df-convert {\n",
              "      background-color: #3B4455;\n",
              "      fill: #D2E3FC;\n",
              "    }\n",
              "\n",
              "    [theme=dark] .colab-df-convert:hover {\n",
              "      background-color: #434B5C;\n",
              "      box-shadow: 0px 1px 3px 1px rgba(0, 0, 0, 0.15);\n",
              "      filter: drop-shadow(0px 1px 2px rgba(0, 0, 0, 0.3));\n",
              "      fill: #FFFFFF;\n",
              "    }\n",
              "  </style>\n",
              "\n",
              "    <script>\n",
              "      const buttonEl =\n",
              "        document.querySelector('#df-6ba8ab28-fe58-422b-a82b-34eb578e0d66 button.colab-df-convert');\n",
              "      buttonEl.style.display =\n",
              "        google.colab.kernel.accessAllowed ? 'block' : 'none';\n",
              "\n",
              "      async function convertToInteractive(key) {\n",
              "        const element = document.querySelector('#df-6ba8ab28-fe58-422b-a82b-34eb578e0d66');\n",
              "        const dataTable =\n",
              "          await google.colab.kernel.invokeFunction('convertToInteractive',\n",
              "                                                    [key], {});\n",
              "        if (!dataTable) return;\n",
              "\n",
              "        const docLinkHtml = 'Like what you see? Visit the ' +\n",
              "          '<a target=\"_blank\" href=https://colab.research.google.com/notebooks/data_table.ipynb>data table notebook</a>'\n",
              "          + ' to learn more about interactive tables.';\n",
              "        element.innerHTML = '';\n",
              "        dataTable['output_type'] = 'display_data';\n",
              "        await google.colab.output.renderOutput(dataTable, element);\n",
              "        const docLink = document.createElement('div');\n",
              "        docLink.innerHTML = docLinkHtml;\n",
              "        element.appendChild(docLink);\n",
              "      }\n",
              "    </script>\n",
              "  </div>\n",
              "\n",
              "\n",
              "<div id=\"df-39273411-876c-4b8e-9391-9928709311b3\">\n",
              "  <button class=\"colab-df-quickchart\" onclick=\"quickchart('df-39273411-876c-4b8e-9391-9928709311b3')\"\n",
              "            title=\"Suggest charts\"\n",
              "            style=\"display:none;\">\n",
              "\n",
              "<svg xmlns=\"http://www.w3.org/2000/svg\" height=\"24px\"viewBox=\"0 0 24 24\"\n",
              "     width=\"24px\">\n",
              "    <g>\n",
              "        <path d=\"M19 3H5c-1.1 0-2 .9-2 2v14c0 1.1.9 2 2 2h14c1.1 0 2-.9 2-2V5c0-1.1-.9-2-2-2zM9 17H7v-7h2v7zm4 0h-2V7h2v10zm4 0h-2v-4h2v4z\"/>\n",
              "    </g>\n",
              "</svg>\n",
              "  </button>\n",
              "\n",
              "<style>\n",
              "  .colab-df-quickchart {\n",
              "      --bg-color: #E8F0FE;\n",
              "      --fill-color: #1967D2;\n",
              "      --hover-bg-color: #E2EBFA;\n",
              "      --hover-fill-color: #174EA6;\n",
              "      --disabled-fill-color: #AAA;\n",
              "      --disabled-bg-color: #DDD;\n",
              "  }\n",
              "\n",
              "  [theme=dark] .colab-df-quickchart {\n",
              "      --bg-color: #3B4455;\n",
              "      --fill-color: #D2E3FC;\n",
              "      --hover-bg-color: #434B5C;\n",
              "      --hover-fill-color: #FFFFFF;\n",
              "      --disabled-bg-color: #3B4455;\n",
              "      --disabled-fill-color: #666;\n",
              "  }\n",
              "\n",
              "  .colab-df-quickchart {\n",
              "    background-color: var(--bg-color);\n",
              "    border: none;\n",
              "    border-radius: 50%;\n",
              "    cursor: pointer;\n",
              "    display: none;\n",
              "    fill: var(--fill-color);\n",
              "    height: 32px;\n",
              "    padding: 0;\n",
              "    width: 32px;\n",
              "  }\n",
              "\n",
              "  .colab-df-quickchart:hover {\n",
              "    background-color: var(--hover-bg-color);\n",
              "    box-shadow: 0 1px 2px rgba(60, 64, 67, 0.3), 0 1px 3px 1px rgba(60, 64, 67, 0.15);\n",
              "    fill: var(--button-hover-fill-color);\n",
              "  }\n",
              "\n",
              "  .colab-df-quickchart-complete:disabled,\n",
              "  .colab-df-quickchart-complete:disabled:hover {\n",
              "    background-color: var(--disabled-bg-color);\n",
              "    fill: var(--disabled-fill-color);\n",
              "    box-shadow: none;\n",
              "  }\n",
              "\n",
              "  .colab-df-spinner {\n",
              "    border: 2px solid var(--fill-color);\n",
              "    border-color: transparent;\n",
              "    border-bottom-color: var(--fill-color);\n",
              "    animation:\n",
              "      spin 1s steps(1) infinite;\n",
              "  }\n",
              "\n",
              "  @keyframes spin {\n",
              "    0% {\n",
              "      border-color: transparent;\n",
              "      border-bottom-color: var(--fill-color);\n",
              "      border-left-color: var(--fill-color);\n",
              "    }\n",
              "    20% {\n",
              "      border-color: transparent;\n",
              "      border-left-color: var(--fill-color);\n",
              "      border-top-color: var(--fill-color);\n",
              "    }\n",
              "    30% {\n",
              "      border-color: transparent;\n",
              "      border-left-color: var(--fill-color);\n",
              "      border-top-color: var(--fill-color);\n",
              "      border-right-color: var(--fill-color);\n",
              "    }\n",
              "    40% {\n",
              "      border-color: transparent;\n",
              "      border-right-color: var(--fill-color);\n",
              "      border-top-color: var(--fill-color);\n",
              "    }\n",
              "    60% {\n",
              "      border-color: transparent;\n",
              "      border-right-color: var(--fill-color);\n",
              "    }\n",
              "    80% {\n",
              "      border-color: transparent;\n",
              "      border-right-color: var(--fill-color);\n",
              "      border-bottom-color: var(--fill-color);\n",
              "    }\n",
              "    90% {\n",
              "      border-color: transparent;\n",
              "      border-bottom-color: var(--fill-color);\n",
              "    }\n",
              "  }\n",
              "</style>\n",
              "\n",
              "  <script>\n",
              "    async function quickchart(key) {\n",
              "      const quickchartButtonEl =\n",
              "        document.querySelector('#' + key + ' button');\n",
              "      quickchartButtonEl.disabled = true;  // To prevent multiple clicks.\n",
              "      quickchartButtonEl.classList.add('colab-df-spinner');\n",
              "      try {\n",
              "        const charts = await google.colab.kernel.invokeFunction(\n",
              "            'suggestCharts', [key], {});\n",
              "      } catch (error) {\n",
              "        console.error('Error during call to suggestCharts:', error);\n",
              "      }\n",
              "      quickchartButtonEl.classList.remove('colab-df-spinner');\n",
              "      quickchartButtonEl.classList.add('colab-df-quickchart-complete');\n",
              "    }\n",
              "    (() => {\n",
              "      let quickchartButtonEl =\n",
              "        document.querySelector('#df-39273411-876c-4b8e-9391-9928709311b3 button');\n",
              "      quickchartButtonEl.style.display =\n",
              "        google.colab.kernel.accessAllowed ? 'block' : 'none';\n",
              "    })();\n",
              "  </script>\n",
              "</div>\n",
              "\n",
              "    </div>\n",
              "  </div>\n"
            ],
            "application/vnd.google.colaboratory.intrinsic+json": {
              "type": "dataframe",
              "variable_name": "train_merged"
            }
          },
          "metadata": {},
          "execution_count": 22
        }
      ]
    },
    {
      "cell_type": "markdown",
      "source": [
        "#<이상치 처리2 - 카테고리별>"
      ],
      "metadata": {
        "id": "2vcJ39LTE9ae"
      }
    },
    {
      "cell_type": "code",
      "source": [
        "train_df = pd.read_csv('/content/drive/MyDrive/데이터/미래 매출/sales_train.csv')\n",
        "test_df = pd.read_csv('/content/drive/MyDrive/데이터/미래 매출/test.csv')\n",
        "submission = pd.read_csv('/content/drive/MyDrive/데이터/미래 매출/sample_submission.csv')\n",
        "shops_en = pd.read_csv('/content/drive/MyDrive/데이터/미래 매출/shops_en.csv')\n",
        "items_en = pd.read_csv('/content/drive/MyDrive/데이터/미래 매출/items_en.csv')\n",
        "item_cat_en = pd.read_csv('/content/drive/MyDrive/데이터/미래 매출/item_categories_en.csv')"
      ],
      "metadata": {
        "id": "8u5F75urFBCz"
      },
      "execution_count": null,
      "outputs": []
    },
    {
      "cell_type": "code",
      "source": [
        "# 음수인 데이터 확인\n",
        "negative_values = train_df[train_df['item_cnt_day'] < 0]\n",
        "print(\"음수인 데이터:\")\n",
        "print(negative_values)"
      ],
      "metadata": {
        "outputId": "b4a0c295-7571-4d3b-80b1-37fa865d51ee",
        "colab": {
          "base_uri": "https://localhost:8080/"
        },
        "id": "vCtV13EjFcAs"
      },
      "execution_count": null,
      "outputs": [
        {
          "output_type": "stream",
          "name": "stdout",
          "text": [
            "음수인 데이터:\n",
            "               date  date_block_num  shop_id  item_id  item_price  \\\n",
            "2        05.01.2013               0       25     2552       899.0   \n",
            "148      23.01.2013               0       25     2321       999.0   \n",
            "175      07.01.2013               0       25     2199      1449.0   \n",
            "807      02.01.2013               0       25     2330       599.0   \n",
            "1041     13.01.2013               0       25     5034      1989.0   \n",
            "...             ...             ...      ...      ...         ...   \n",
            "2934243  26.10.2015              33       25     3917       449.0   \n",
            "2934462  18.10.2015              33       25     4896      6398.0   \n",
            "2935263  05.10.2015              33       25    10039       249.0   \n",
            "2935643  16.10.2015              33       25     7893      2990.0   \n",
            "2935779  07.10.2015              33       25     7087       999.0   \n",
            "\n",
            "         item_cnt_day  \n",
            "2                -1.0  \n",
            "148              -1.0  \n",
            "175              -1.0  \n",
            "807              -1.0  \n",
            "1041             -1.0  \n",
            "...               ...  \n",
            "2934243          -1.0  \n",
            "2934462          -1.0  \n",
            "2935263          -1.0  \n",
            "2935643          -1.0  \n",
            "2935779          -1.0  \n",
            "\n",
            "[7356 rows x 6 columns]\n"
          ]
        }
      ]
    },
    {
      "cell_type": "code",
      "source": [
        "# item_cnt_day 변수가 음수인 행들을 0으로 변경\n",
        "train_df.loc[train_df['item_cnt_day'] < 0, 'item_cnt_day'] = 0\n",
        "\n",
        "print(train_df)"
      ],
      "metadata": {
        "colab": {
          "base_uri": "https://localhost:8080/"
        },
        "outputId": "471045fc-9650-4aa3-b701-86fc4e37faa9",
        "id": "IDisnNwvFcAt"
      },
      "execution_count": null,
      "outputs": [
        {
          "output_type": "stream",
          "name": "stdout",
          "text": [
            "               date  date_block_num  shop_id  item_id  item_price  \\\n",
            "0        02.01.2013               0       59    22154      999.00   \n",
            "1        03.01.2013               0       25     2552      899.00   \n",
            "2        05.01.2013               0       25     2552      899.00   \n",
            "3        06.01.2013               0       25     2554     1709.05   \n",
            "4        15.01.2013               0       25     2555     1099.00   \n",
            "...             ...             ...      ...      ...         ...   \n",
            "2935844  10.10.2015              33       25     7409      299.00   \n",
            "2935845  09.10.2015              33       25     7460      299.00   \n",
            "2935846  14.10.2015              33       25     7459      349.00   \n",
            "2935847  22.10.2015              33       25     7440      299.00   \n",
            "2935848  03.10.2015              33       25     7460      299.00   \n",
            "\n",
            "         item_cnt_day  \n",
            "0                 1.0  \n",
            "1                 1.0  \n",
            "2                 0.0  \n",
            "3                 1.0  \n",
            "4                 1.0  \n",
            "...               ...  \n",
            "2935844           1.0  \n",
            "2935845           1.0  \n",
            "2935846           1.0  \n",
            "2935847           1.0  \n",
            "2935848           1.0  \n",
            "\n",
            "[2935849 rows x 6 columns]\n"
          ]
        }
      ]
    },
    {
      "cell_type": "code",
      "source": [
        "# 음수인 데이터 확인\n",
        "negative_values = train_df[train_df['item_price'] < 0]\n",
        "print(\"음수인 데이터:\")\n",
        "print(negative_values)"
      ],
      "metadata": {
        "colab": {
          "base_uri": "https://localhost:8080/"
        },
        "outputId": "ec05fbb7-65bb-46a7-efd3-e26ede976e8a",
        "id": "Lje8mfHXFcAu"
      },
      "execution_count": null,
      "outputs": [
        {
          "output_type": "stream",
          "name": "stdout",
          "text": [
            "음수인 데이터:\n",
            "              date  date_block_num  shop_id  item_id  item_price  item_cnt_day\n",
            "484683  15.05.2013               4       32     2973        -1.0           1.0\n"
          ]
        }
      ]
    },
    {
      "cell_type": "code",
      "source": [
        "# item_price 변수가 음수인 행들을 0으로 변경\n",
        "train_df.loc[train_df['item_price'] < 0, 'item_price'] = 0\n",
        "\n",
        "print(train_df)"
      ],
      "metadata": {
        "colab": {
          "base_uri": "https://localhost:8080/"
        },
        "outputId": "f3b61a5a-8080-4a58-84c6-a10b8ce9b96f",
        "id": "cwjnPT6PFcAu"
      },
      "execution_count": null,
      "outputs": [
        {
          "output_type": "stream",
          "name": "stdout",
          "text": [
            "               date  date_block_num  shop_id  item_id  item_price  \\\n",
            "0        02.01.2013               0       59    22154      999.00   \n",
            "1        03.01.2013               0       25     2552      899.00   \n",
            "2        05.01.2013               0       25     2552      899.00   \n",
            "3        06.01.2013               0       25     2554     1709.05   \n",
            "4        15.01.2013               0       25     2555     1099.00   \n",
            "...             ...             ...      ...      ...         ...   \n",
            "2935844  10.10.2015              33       25     7409      299.00   \n",
            "2935845  09.10.2015              33       25     7460      299.00   \n",
            "2935846  14.10.2015              33       25     7459      349.00   \n",
            "2935847  22.10.2015              33       25     7440      299.00   \n",
            "2935848  03.10.2015              33       25     7460      299.00   \n",
            "\n",
            "         item_cnt_day  \n",
            "0                 1.0  \n",
            "1                 1.0  \n",
            "2                 0.0  \n",
            "3                 1.0  \n",
            "4                 1.0  \n",
            "...               ...  \n",
            "2935844           1.0  \n",
            "2935845           1.0  \n",
            "2935846           1.0  \n",
            "2935847           1.0  \n",
            "2935848           1.0  \n",
            "\n",
            "[2935849 rows x 6 columns]\n"
          ]
        }
      ]
    },
    {
      "cell_type": "code",
      "source": [
        "#데이터프레임 병합\n",
        "# 첫 번째 병합\n",
        "train_with_shops = train_df.merge(shops_en, on='shop_id', how='left')\n",
        "\n",
        "# 두 번째 병합\n",
        "train_with_shops_and_items = train_with_shops.merge(items_en, on='item_id', how='left')\n",
        "\n",
        "# 세 번째 병합\n",
        "train_merged = train_with_shops_and_items.merge(item_cat_en, on='item_category_id', how='left')\n",
        "\n",
        "# 최종 병합된 데이터프레임 확인\n",
        "train_merged.head()"
      ],
      "metadata": {
        "colab": {
          "base_uri": "https://localhost:8080/"
        },
        "outputId": "66d44825-bf30-4bc1-b68c-8c036501e999",
        "id": "g-9kCHaEFMUE"
      },
      "execution_count": null,
      "outputs": [
        {
          "output_type": "execute_result",
          "data": {
            "text/plain": [
              "         date  date_block_num  shop_id  item_id  item_price  item_cnt_day  \\\n",
              "0  02.01.2013               0       59    22154      999.00           1.0   \n",
              "1  03.01.2013               0       25     2552      899.00           1.0   \n",
              "2  05.01.2013               0       25     2552      899.00           0.0   \n",
              "3  06.01.2013               0       25     2554     1709.05           1.0   \n",
              "4  15.01.2013               0       25     2555     1099.00           1.0   \n",
              "\n",
              "                            shop_name  \\\n",
              "0  Yaroslavl shopping center \"Altair\"   \n",
              "1                 Moscow TRC \"Atrium\"   \n",
              "2                 Moscow TRC \"Atrium\"   \n",
              "3                 Moscow TRC \"Atrium\"   \n",
              "4                 Moscow TRC \"Atrium\"   \n",
              "\n",
              "                                  item_name  item_category_id  \\\n",
              "0                           Scene 2012 (BD)                37   \n",
              "1  DEEP PURPLE  The House Of Blue Light  LP                58   \n",
              "2  DEEP PURPLE  The House Of Blue Light  LP                58   \n",
              "3  DEEP PURPLE  Who Do You Think We Are  LP                58   \n",
              "4   DEEP PURPLE 30 Very Best Of 2CD (Фирм.)                56   \n",
              "\n",
              "           item_category_name  \n",
              "0            Movies - Blu-Ray  \n",
              "1               Music - Vinyl  \n",
              "2               Music - Vinyl  \n",
              "3               Music - Vinyl  \n",
              "4  Music - CD production firm  "
            ],
            "text/html": [
              "\n",
              "  <div id=\"df-c3066839-9d0f-4cbe-9605-c9514115e1f5\" class=\"colab-df-container\">\n",
              "    <div>\n",
              "<style scoped>\n",
              "    .dataframe tbody tr th:only-of-type {\n",
              "        vertical-align: middle;\n",
              "    }\n",
              "\n",
              "    .dataframe tbody tr th {\n",
              "        vertical-align: top;\n",
              "    }\n",
              "\n",
              "    .dataframe thead th {\n",
              "        text-align: right;\n",
              "    }\n",
              "</style>\n",
              "<table border=\"1\" class=\"dataframe\">\n",
              "  <thead>\n",
              "    <tr style=\"text-align: right;\">\n",
              "      <th></th>\n",
              "      <th>date</th>\n",
              "      <th>date_block_num</th>\n",
              "      <th>shop_id</th>\n",
              "      <th>item_id</th>\n",
              "      <th>item_price</th>\n",
              "      <th>item_cnt_day</th>\n",
              "      <th>shop_name</th>\n",
              "      <th>item_name</th>\n",
              "      <th>item_category_id</th>\n",
              "      <th>item_category_name</th>\n",
              "    </tr>\n",
              "  </thead>\n",
              "  <tbody>\n",
              "    <tr>\n",
              "      <th>0</th>\n",
              "      <td>02.01.2013</td>\n",
              "      <td>0</td>\n",
              "      <td>59</td>\n",
              "      <td>22154</td>\n",
              "      <td>999.00</td>\n",
              "      <td>1.0</td>\n",
              "      <td>Yaroslavl shopping center \"Altair\"</td>\n",
              "      <td>Scene 2012 (BD)</td>\n",
              "      <td>37</td>\n",
              "      <td>Movies - Blu-Ray</td>\n",
              "    </tr>\n",
              "    <tr>\n",
              "      <th>1</th>\n",
              "      <td>03.01.2013</td>\n",
              "      <td>0</td>\n",
              "      <td>25</td>\n",
              "      <td>2552</td>\n",
              "      <td>899.00</td>\n",
              "      <td>1.0</td>\n",
              "      <td>Moscow TRC \"Atrium\"</td>\n",
              "      <td>DEEP PURPLE  The House Of Blue Light  LP</td>\n",
              "      <td>58</td>\n",
              "      <td>Music - Vinyl</td>\n",
              "    </tr>\n",
              "    <tr>\n",
              "      <th>2</th>\n",
              "      <td>05.01.2013</td>\n",
              "      <td>0</td>\n",
              "      <td>25</td>\n",
              "      <td>2552</td>\n",
              "      <td>899.00</td>\n",
              "      <td>0.0</td>\n",
              "      <td>Moscow TRC \"Atrium\"</td>\n",
              "      <td>DEEP PURPLE  The House Of Blue Light  LP</td>\n",
              "      <td>58</td>\n",
              "      <td>Music - Vinyl</td>\n",
              "    </tr>\n",
              "    <tr>\n",
              "      <th>3</th>\n",
              "      <td>06.01.2013</td>\n",
              "      <td>0</td>\n",
              "      <td>25</td>\n",
              "      <td>2554</td>\n",
              "      <td>1709.05</td>\n",
              "      <td>1.0</td>\n",
              "      <td>Moscow TRC \"Atrium\"</td>\n",
              "      <td>DEEP PURPLE  Who Do You Think We Are  LP</td>\n",
              "      <td>58</td>\n",
              "      <td>Music - Vinyl</td>\n",
              "    </tr>\n",
              "    <tr>\n",
              "      <th>4</th>\n",
              "      <td>15.01.2013</td>\n",
              "      <td>0</td>\n",
              "      <td>25</td>\n",
              "      <td>2555</td>\n",
              "      <td>1099.00</td>\n",
              "      <td>1.0</td>\n",
              "      <td>Moscow TRC \"Atrium\"</td>\n",
              "      <td>DEEP PURPLE 30 Very Best Of 2CD (Фирм.)</td>\n",
              "      <td>56</td>\n",
              "      <td>Music - CD production firm</td>\n",
              "    </tr>\n",
              "  </tbody>\n",
              "</table>\n",
              "</div>\n",
              "    <div class=\"colab-df-buttons\">\n",
              "\n",
              "  <div class=\"colab-df-container\">\n",
              "    <button class=\"colab-df-convert\" onclick=\"convertToInteractive('df-c3066839-9d0f-4cbe-9605-c9514115e1f5')\"\n",
              "            title=\"Convert this dataframe to an interactive table.\"\n",
              "            style=\"display:none;\">\n",
              "\n",
              "  <svg xmlns=\"http://www.w3.org/2000/svg\" height=\"24px\" viewBox=\"0 -960 960 960\">\n",
              "    <path d=\"M120-120v-720h720v720H120Zm60-500h600v-160H180v160Zm220 220h160v-160H400v160Zm0 220h160v-160H400v160ZM180-400h160v-160H180v160Zm440 0h160v-160H620v160ZM180-180h160v-160H180v160Zm440 0h160v-160H620v160Z\"/>\n",
              "  </svg>\n",
              "    </button>\n",
              "\n",
              "  <style>\n",
              "    .colab-df-container {\n",
              "      display:flex;\n",
              "      gap: 12px;\n",
              "    }\n",
              "\n",
              "    .colab-df-convert {\n",
              "      background-color: #E8F0FE;\n",
              "      border: none;\n",
              "      border-radius: 50%;\n",
              "      cursor: pointer;\n",
              "      display: none;\n",
              "      fill: #1967D2;\n",
              "      height: 32px;\n",
              "      padding: 0 0 0 0;\n",
              "      width: 32px;\n",
              "    }\n",
              "\n",
              "    .colab-df-convert:hover {\n",
              "      background-color: #E2EBFA;\n",
              "      box-shadow: 0px 1px 2px rgba(60, 64, 67, 0.3), 0px 1px 3px 1px rgba(60, 64, 67, 0.15);\n",
              "      fill: #174EA6;\n",
              "    }\n",
              "\n",
              "    .colab-df-buttons div {\n",
              "      margin-bottom: 4px;\n",
              "    }\n",
              "\n",
              "    [theme=dark] .colab-df-convert {\n",
              "      background-color: #3B4455;\n",
              "      fill: #D2E3FC;\n",
              "    }\n",
              "\n",
              "    [theme=dark] .colab-df-convert:hover {\n",
              "      background-color: #434B5C;\n",
              "      box-shadow: 0px 1px 3px 1px rgba(0, 0, 0, 0.15);\n",
              "      filter: drop-shadow(0px 1px 2px rgba(0, 0, 0, 0.3));\n",
              "      fill: #FFFFFF;\n",
              "    }\n",
              "  </style>\n",
              "\n",
              "    <script>\n",
              "      const buttonEl =\n",
              "        document.querySelector('#df-c3066839-9d0f-4cbe-9605-c9514115e1f5 button.colab-df-convert');\n",
              "      buttonEl.style.display =\n",
              "        google.colab.kernel.accessAllowed ? 'block' : 'none';\n",
              "\n",
              "      async function convertToInteractive(key) {\n",
              "        const element = document.querySelector('#df-c3066839-9d0f-4cbe-9605-c9514115e1f5');\n",
              "        const dataTable =\n",
              "          await google.colab.kernel.invokeFunction('convertToInteractive',\n",
              "                                                    [key], {});\n",
              "        if (!dataTable) return;\n",
              "\n",
              "        const docLinkHtml = 'Like what you see? Visit the ' +\n",
              "          '<a target=\"_blank\" href=https://colab.research.google.com/notebooks/data_table.ipynb>data table notebook</a>'\n",
              "          + ' to learn more about interactive tables.';\n",
              "        element.innerHTML = '';\n",
              "        dataTable['output_type'] = 'display_data';\n",
              "        await google.colab.output.renderOutput(dataTable, element);\n",
              "        const docLink = document.createElement('div');\n",
              "        docLink.innerHTML = docLinkHtml;\n",
              "        element.appendChild(docLink);\n",
              "      }\n",
              "    </script>\n",
              "  </div>\n",
              "\n",
              "\n",
              "<div id=\"df-e86b6c2f-2ae6-466d-9538-0588a8471269\">\n",
              "  <button class=\"colab-df-quickchart\" onclick=\"quickchart('df-e86b6c2f-2ae6-466d-9538-0588a8471269')\"\n",
              "            title=\"Suggest charts\"\n",
              "            style=\"display:none;\">\n",
              "\n",
              "<svg xmlns=\"http://www.w3.org/2000/svg\" height=\"24px\"viewBox=\"0 0 24 24\"\n",
              "     width=\"24px\">\n",
              "    <g>\n",
              "        <path d=\"M19 3H5c-1.1 0-2 .9-2 2v14c0 1.1.9 2 2 2h14c1.1 0 2-.9 2-2V5c0-1.1-.9-2-2-2zM9 17H7v-7h2v7zm4 0h-2V7h2v10zm4 0h-2v-4h2v4z\"/>\n",
              "    </g>\n",
              "</svg>\n",
              "  </button>\n",
              "\n",
              "<style>\n",
              "  .colab-df-quickchart {\n",
              "      --bg-color: #E8F0FE;\n",
              "      --fill-color: #1967D2;\n",
              "      --hover-bg-color: #E2EBFA;\n",
              "      --hover-fill-color: #174EA6;\n",
              "      --disabled-fill-color: #AAA;\n",
              "      --disabled-bg-color: #DDD;\n",
              "  }\n",
              "\n",
              "  [theme=dark] .colab-df-quickchart {\n",
              "      --bg-color: #3B4455;\n",
              "      --fill-color: #D2E3FC;\n",
              "      --hover-bg-color: #434B5C;\n",
              "      --hover-fill-color: #FFFFFF;\n",
              "      --disabled-bg-color: #3B4455;\n",
              "      --disabled-fill-color: #666;\n",
              "  }\n",
              "\n",
              "  .colab-df-quickchart {\n",
              "    background-color: var(--bg-color);\n",
              "    border: none;\n",
              "    border-radius: 50%;\n",
              "    cursor: pointer;\n",
              "    display: none;\n",
              "    fill: var(--fill-color);\n",
              "    height: 32px;\n",
              "    padding: 0;\n",
              "    width: 32px;\n",
              "  }\n",
              "\n",
              "  .colab-df-quickchart:hover {\n",
              "    background-color: var(--hover-bg-color);\n",
              "    box-shadow: 0 1px 2px rgba(60, 64, 67, 0.3), 0 1px 3px 1px rgba(60, 64, 67, 0.15);\n",
              "    fill: var(--button-hover-fill-color);\n",
              "  }\n",
              "\n",
              "  .colab-df-quickchart-complete:disabled,\n",
              "  .colab-df-quickchart-complete:disabled:hover {\n",
              "    background-color: var(--disabled-bg-color);\n",
              "    fill: var(--disabled-fill-color);\n",
              "    box-shadow: none;\n",
              "  }\n",
              "\n",
              "  .colab-df-spinner {\n",
              "    border: 2px solid var(--fill-color);\n",
              "    border-color: transparent;\n",
              "    border-bottom-color: var(--fill-color);\n",
              "    animation:\n",
              "      spin 1s steps(1) infinite;\n",
              "  }\n",
              "\n",
              "  @keyframes spin {\n",
              "    0% {\n",
              "      border-color: transparent;\n",
              "      border-bottom-color: var(--fill-color);\n",
              "      border-left-color: var(--fill-color);\n",
              "    }\n",
              "    20% {\n",
              "      border-color: transparent;\n",
              "      border-left-color: var(--fill-color);\n",
              "      border-top-color: var(--fill-color);\n",
              "    }\n",
              "    30% {\n",
              "      border-color: transparent;\n",
              "      border-left-color: var(--fill-color);\n",
              "      border-top-color: var(--fill-color);\n",
              "      border-right-color: var(--fill-color);\n",
              "    }\n",
              "    40% {\n",
              "      border-color: transparent;\n",
              "      border-right-color: var(--fill-color);\n",
              "      border-top-color: var(--fill-color);\n",
              "    }\n",
              "    60% {\n",
              "      border-color: transparent;\n",
              "      border-right-color: var(--fill-color);\n",
              "    }\n",
              "    80% {\n",
              "      border-color: transparent;\n",
              "      border-right-color: var(--fill-color);\n",
              "      border-bottom-color: var(--fill-color);\n",
              "    }\n",
              "    90% {\n",
              "      border-color: transparent;\n",
              "      border-bottom-color: var(--fill-color);\n",
              "    }\n",
              "  }\n",
              "</style>\n",
              "\n",
              "  <script>\n",
              "    async function quickchart(key) {\n",
              "      const quickchartButtonEl =\n",
              "        document.querySelector('#' + key + ' button');\n",
              "      quickchartButtonEl.disabled = true;  // To prevent multiple clicks.\n",
              "      quickchartButtonEl.classList.add('colab-df-spinner');\n",
              "      try {\n",
              "        const charts = await google.colab.kernel.invokeFunction(\n",
              "            'suggestCharts', [key], {});\n",
              "      } catch (error) {\n",
              "        console.error('Error during call to suggestCharts:', error);\n",
              "      }\n",
              "      quickchartButtonEl.classList.remove('colab-df-spinner');\n",
              "      quickchartButtonEl.classList.add('colab-df-quickchart-complete');\n",
              "    }\n",
              "    (() => {\n",
              "      let quickchartButtonEl =\n",
              "        document.querySelector('#df-e86b6c2f-2ae6-466d-9538-0588a8471269 button');\n",
              "      quickchartButtonEl.style.display =\n",
              "        google.colab.kernel.accessAllowed ? 'block' : 'none';\n",
              "    })();\n",
              "  </script>\n",
              "</div>\n",
              "\n",
              "    </div>\n",
              "  </div>\n"
            ],
            "application/vnd.google.colaboratory.intrinsic+json": {
              "type": "dataframe",
              "variable_name": "train_merged"
            }
          },
          "metadata": {},
          "execution_count": 28
        }
      ]
    },
    {
      "cell_type": "code",
      "source": [
        "# date_block_num와 item_cnt_day를 그룹화하고 item_cnt_month 파생변수 생성\n",
        "train_merged['item_cnt_month'] = train_merged.groupby('date_block_num')['item_cnt_day'].transform('sum')\n",
        "\n",
        "# 결과 확인\n",
        "train_merged.head()"
      ],
      "metadata": {
        "colab": {
          "base_uri": "https://localhost:8080/"
        },
        "outputId": "798219a1-c091-4443-fbb6-884e1133e0ca",
        "id": "QeFOU9POFMUF"
      },
      "execution_count": null,
      "outputs": [
        {
          "output_type": "execute_result",
          "data": {
            "text/plain": [
              "         date  date_block_num  shop_id  item_id  item_price  item_cnt_day  \\\n",
              "0  02.01.2013               0       59    22154      999.00           1.0   \n",
              "1  03.01.2013               0       25     2552      899.00           1.0   \n",
              "2  05.01.2013               0       25     2552      899.00           0.0   \n",
              "3  06.01.2013               0       25     2554     1709.05           1.0   \n",
              "4  15.01.2013               0       25     2555     1099.00           1.0   \n",
              "\n",
              "                            shop_name  \\\n",
              "0  Yaroslavl shopping center \"Altair\"   \n",
              "1                 Moscow TRC \"Atrium\"   \n",
              "2                 Moscow TRC \"Atrium\"   \n",
              "3                 Moscow TRC \"Atrium\"   \n",
              "4                 Moscow TRC \"Atrium\"   \n",
              "\n",
              "                                  item_name  item_category_id  \\\n",
              "0                           Scene 2012 (BD)                37   \n",
              "1  DEEP PURPLE  The House Of Blue Light  LP                58   \n",
              "2  DEEP PURPLE  The House Of Blue Light  LP                58   \n",
              "3  DEEP PURPLE  Who Do You Think We Are  LP                58   \n",
              "4   DEEP PURPLE 30 Very Best Of 2CD (Фирм.)                56   \n",
              "\n",
              "           item_category_name  item_cnt_month  \n",
              "0            Movies - Blu-Ray        131850.0  \n",
              "1               Music - Vinyl        131850.0  \n",
              "2               Music - Vinyl        131850.0  \n",
              "3               Music - Vinyl        131850.0  \n",
              "4  Music - CD production firm        131850.0  "
            ],
            "text/html": [
              "\n",
              "  <div id=\"df-2bb9b41e-ae5d-4a54-81ea-ab19edd62550\" class=\"colab-df-container\">\n",
              "    <div>\n",
              "<style scoped>\n",
              "    .dataframe tbody tr th:only-of-type {\n",
              "        vertical-align: middle;\n",
              "    }\n",
              "\n",
              "    .dataframe tbody tr th {\n",
              "        vertical-align: top;\n",
              "    }\n",
              "\n",
              "    .dataframe thead th {\n",
              "        text-align: right;\n",
              "    }\n",
              "</style>\n",
              "<table border=\"1\" class=\"dataframe\">\n",
              "  <thead>\n",
              "    <tr style=\"text-align: right;\">\n",
              "      <th></th>\n",
              "      <th>date</th>\n",
              "      <th>date_block_num</th>\n",
              "      <th>shop_id</th>\n",
              "      <th>item_id</th>\n",
              "      <th>item_price</th>\n",
              "      <th>item_cnt_day</th>\n",
              "      <th>shop_name</th>\n",
              "      <th>item_name</th>\n",
              "      <th>item_category_id</th>\n",
              "      <th>item_category_name</th>\n",
              "      <th>item_cnt_month</th>\n",
              "    </tr>\n",
              "  </thead>\n",
              "  <tbody>\n",
              "    <tr>\n",
              "      <th>0</th>\n",
              "      <td>02.01.2013</td>\n",
              "      <td>0</td>\n",
              "      <td>59</td>\n",
              "      <td>22154</td>\n",
              "      <td>999.00</td>\n",
              "      <td>1.0</td>\n",
              "      <td>Yaroslavl shopping center \"Altair\"</td>\n",
              "      <td>Scene 2012 (BD)</td>\n",
              "      <td>37</td>\n",
              "      <td>Movies - Blu-Ray</td>\n",
              "      <td>131850.0</td>\n",
              "    </tr>\n",
              "    <tr>\n",
              "      <th>1</th>\n",
              "      <td>03.01.2013</td>\n",
              "      <td>0</td>\n",
              "      <td>25</td>\n",
              "      <td>2552</td>\n",
              "      <td>899.00</td>\n",
              "      <td>1.0</td>\n",
              "      <td>Moscow TRC \"Atrium\"</td>\n",
              "      <td>DEEP PURPLE  The House Of Blue Light  LP</td>\n",
              "      <td>58</td>\n",
              "      <td>Music - Vinyl</td>\n",
              "      <td>131850.0</td>\n",
              "    </tr>\n",
              "    <tr>\n",
              "      <th>2</th>\n",
              "      <td>05.01.2013</td>\n",
              "      <td>0</td>\n",
              "      <td>25</td>\n",
              "      <td>2552</td>\n",
              "      <td>899.00</td>\n",
              "      <td>0.0</td>\n",
              "      <td>Moscow TRC \"Atrium\"</td>\n",
              "      <td>DEEP PURPLE  The House Of Blue Light  LP</td>\n",
              "      <td>58</td>\n",
              "      <td>Music - Vinyl</td>\n",
              "      <td>131850.0</td>\n",
              "    </tr>\n",
              "    <tr>\n",
              "      <th>3</th>\n",
              "      <td>06.01.2013</td>\n",
              "      <td>0</td>\n",
              "      <td>25</td>\n",
              "      <td>2554</td>\n",
              "      <td>1709.05</td>\n",
              "      <td>1.0</td>\n",
              "      <td>Moscow TRC \"Atrium\"</td>\n",
              "      <td>DEEP PURPLE  Who Do You Think We Are  LP</td>\n",
              "      <td>58</td>\n",
              "      <td>Music - Vinyl</td>\n",
              "      <td>131850.0</td>\n",
              "    </tr>\n",
              "    <tr>\n",
              "      <th>4</th>\n",
              "      <td>15.01.2013</td>\n",
              "      <td>0</td>\n",
              "      <td>25</td>\n",
              "      <td>2555</td>\n",
              "      <td>1099.00</td>\n",
              "      <td>1.0</td>\n",
              "      <td>Moscow TRC \"Atrium\"</td>\n",
              "      <td>DEEP PURPLE 30 Very Best Of 2CD (Фирм.)</td>\n",
              "      <td>56</td>\n",
              "      <td>Music - CD production firm</td>\n",
              "      <td>131850.0</td>\n",
              "    </tr>\n",
              "  </tbody>\n",
              "</table>\n",
              "</div>\n",
              "    <div class=\"colab-df-buttons\">\n",
              "\n",
              "  <div class=\"colab-df-container\">\n",
              "    <button class=\"colab-df-convert\" onclick=\"convertToInteractive('df-2bb9b41e-ae5d-4a54-81ea-ab19edd62550')\"\n",
              "            title=\"Convert this dataframe to an interactive table.\"\n",
              "            style=\"display:none;\">\n",
              "\n",
              "  <svg xmlns=\"http://www.w3.org/2000/svg\" height=\"24px\" viewBox=\"0 -960 960 960\">\n",
              "    <path d=\"M120-120v-720h720v720H120Zm60-500h600v-160H180v160Zm220 220h160v-160H400v160Zm0 220h160v-160H400v160ZM180-400h160v-160H180v160Zm440 0h160v-160H620v160ZM180-180h160v-160H180v160Zm440 0h160v-160H620v160Z\"/>\n",
              "  </svg>\n",
              "    </button>\n",
              "\n",
              "  <style>\n",
              "    .colab-df-container {\n",
              "      display:flex;\n",
              "      gap: 12px;\n",
              "    }\n",
              "\n",
              "    .colab-df-convert {\n",
              "      background-color: #E8F0FE;\n",
              "      border: none;\n",
              "      border-radius: 50%;\n",
              "      cursor: pointer;\n",
              "      display: none;\n",
              "      fill: #1967D2;\n",
              "      height: 32px;\n",
              "      padding: 0 0 0 0;\n",
              "      width: 32px;\n",
              "    }\n",
              "\n",
              "    .colab-df-convert:hover {\n",
              "      background-color: #E2EBFA;\n",
              "      box-shadow: 0px 1px 2px rgba(60, 64, 67, 0.3), 0px 1px 3px 1px rgba(60, 64, 67, 0.15);\n",
              "      fill: #174EA6;\n",
              "    }\n",
              "\n",
              "    .colab-df-buttons div {\n",
              "      margin-bottom: 4px;\n",
              "    }\n",
              "\n",
              "    [theme=dark] .colab-df-convert {\n",
              "      background-color: #3B4455;\n",
              "      fill: #D2E3FC;\n",
              "    }\n",
              "\n",
              "    [theme=dark] .colab-df-convert:hover {\n",
              "      background-color: #434B5C;\n",
              "      box-shadow: 0px 1px 3px 1px rgba(0, 0, 0, 0.15);\n",
              "      filter: drop-shadow(0px 1px 2px rgba(0, 0, 0, 0.3));\n",
              "      fill: #FFFFFF;\n",
              "    }\n",
              "  </style>\n",
              "\n",
              "    <script>\n",
              "      const buttonEl =\n",
              "        document.querySelector('#df-2bb9b41e-ae5d-4a54-81ea-ab19edd62550 button.colab-df-convert');\n",
              "      buttonEl.style.display =\n",
              "        google.colab.kernel.accessAllowed ? 'block' : 'none';\n",
              "\n",
              "      async function convertToInteractive(key) {\n",
              "        const element = document.querySelector('#df-2bb9b41e-ae5d-4a54-81ea-ab19edd62550');\n",
              "        const dataTable =\n",
              "          await google.colab.kernel.invokeFunction('convertToInteractive',\n",
              "                                                    [key], {});\n",
              "        if (!dataTable) return;\n",
              "\n",
              "        const docLinkHtml = 'Like what you see? Visit the ' +\n",
              "          '<a target=\"_blank\" href=https://colab.research.google.com/notebooks/data_table.ipynb>data table notebook</a>'\n",
              "          + ' to learn more about interactive tables.';\n",
              "        element.innerHTML = '';\n",
              "        dataTable['output_type'] = 'display_data';\n",
              "        await google.colab.output.renderOutput(dataTable, element);\n",
              "        const docLink = document.createElement('div');\n",
              "        docLink.innerHTML = docLinkHtml;\n",
              "        element.appendChild(docLink);\n",
              "      }\n",
              "    </script>\n",
              "  </div>\n",
              "\n",
              "\n",
              "<div id=\"df-b1b18e85-bde9-4e6e-ba99-d70c16d91497\">\n",
              "  <button class=\"colab-df-quickchart\" onclick=\"quickchart('df-b1b18e85-bde9-4e6e-ba99-d70c16d91497')\"\n",
              "            title=\"Suggest charts\"\n",
              "            style=\"display:none;\">\n",
              "\n",
              "<svg xmlns=\"http://www.w3.org/2000/svg\" height=\"24px\"viewBox=\"0 0 24 24\"\n",
              "     width=\"24px\">\n",
              "    <g>\n",
              "        <path d=\"M19 3H5c-1.1 0-2 .9-2 2v14c0 1.1.9 2 2 2h14c1.1 0 2-.9 2-2V5c0-1.1-.9-2-2-2zM9 17H7v-7h2v7zm4 0h-2V7h2v10zm4 0h-2v-4h2v4z\"/>\n",
              "    </g>\n",
              "</svg>\n",
              "  </button>\n",
              "\n",
              "<style>\n",
              "  .colab-df-quickchart {\n",
              "      --bg-color: #E8F0FE;\n",
              "      --fill-color: #1967D2;\n",
              "      --hover-bg-color: #E2EBFA;\n",
              "      --hover-fill-color: #174EA6;\n",
              "      --disabled-fill-color: #AAA;\n",
              "      --disabled-bg-color: #DDD;\n",
              "  }\n",
              "\n",
              "  [theme=dark] .colab-df-quickchart {\n",
              "      --bg-color: #3B4455;\n",
              "      --fill-color: #D2E3FC;\n",
              "      --hover-bg-color: #434B5C;\n",
              "      --hover-fill-color: #FFFFFF;\n",
              "      --disabled-bg-color: #3B4455;\n",
              "      --disabled-fill-color: #666;\n",
              "  }\n",
              "\n",
              "  .colab-df-quickchart {\n",
              "    background-color: var(--bg-color);\n",
              "    border: none;\n",
              "    border-radius: 50%;\n",
              "    cursor: pointer;\n",
              "    display: none;\n",
              "    fill: var(--fill-color);\n",
              "    height: 32px;\n",
              "    padding: 0;\n",
              "    width: 32px;\n",
              "  }\n",
              "\n",
              "  .colab-df-quickchart:hover {\n",
              "    background-color: var(--hover-bg-color);\n",
              "    box-shadow: 0 1px 2px rgba(60, 64, 67, 0.3), 0 1px 3px 1px rgba(60, 64, 67, 0.15);\n",
              "    fill: var(--button-hover-fill-color);\n",
              "  }\n",
              "\n",
              "  .colab-df-quickchart-complete:disabled,\n",
              "  .colab-df-quickchart-complete:disabled:hover {\n",
              "    background-color: var(--disabled-bg-color);\n",
              "    fill: var(--disabled-fill-color);\n",
              "    box-shadow: none;\n",
              "  }\n",
              "\n",
              "  .colab-df-spinner {\n",
              "    border: 2px solid var(--fill-color);\n",
              "    border-color: transparent;\n",
              "    border-bottom-color: var(--fill-color);\n",
              "    animation:\n",
              "      spin 1s steps(1) infinite;\n",
              "  }\n",
              "\n",
              "  @keyframes spin {\n",
              "    0% {\n",
              "      border-color: transparent;\n",
              "      border-bottom-color: var(--fill-color);\n",
              "      border-left-color: var(--fill-color);\n",
              "    }\n",
              "    20% {\n",
              "      border-color: transparent;\n",
              "      border-left-color: var(--fill-color);\n",
              "      border-top-color: var(--fill-color);\n",
              "    }\n",
              "    30% {\n",
              "      border-color: transparent;\n",
              "      border-left-color: var(--fill-color);\n",
              "      border-top-color: var(--fill-color);\n",
              "      border-right-color: var(--fill-color);\n",
              "    }\n",
              "    40% {\n",
              "      border-color: transparent;\n",
              "      border-right-color: var(--fill-color);\n",
              "      border-top-color: var(--fill-color);\n",
              "    }\n",
              "    60% {\n",
              "      border-color: transparent;\n",
              "      border-right-color: var(--fill-color);\n",
              "    }\n",
              "    80% {\n",
              "      border-color: transparent;\n",
              "      border-right-color: var(--fill-color);\n",
              "      border-bottom-color: var(--fill-color);\n",
              "    }\n",
              "    90% {\n",
              "      border-color: transparent;\n",
              "      border-bottom-color: var(--fill-color);\n",
              "    }\n",
              "  }\n",
              "</style>\n",
              "\n",
              "  <script>\n",
              "    async function quickchart(key) {\n",
              "      const quickchartButtonEl =\n",
              "        document.querySelector('#' + key + ' button');\n",
              "      quickchartButtonEl.disabled = true;  // To prevent multiple clicks.\n",
              "      quickchartButtonEl.classList.add('colab-df-spinner');\n",
              "      try {\n",
              "        const charts = await google.colab.kernel.invokeFunction(\n",
              "            'suggestCharts', [key], {});\n",
              "      } catch (error) {\n",
              "        console.error('Error during call to suggestCharts:', error);\n",
              "      }\n",
              "      quickchartButtonEl.classList.remove('colab-df-spinner');\n",
              "      quickchartButtonEl.classList.add('colab-df-quickchart-complete');\n",
              "    }\n",
              "    (() => {\n",
              "      let quickchartButtonEl =\n",
              "        document.querySelector('#df-b1b18e85-bde9-4e6e-ba99-d70c16d91497 button');\n",
              "      quickchartButtonEl.style.display =\n",
              "        google.colab.kernel.accessAllowed ? 'block' : 'none';\n",
              "    })();\n",
              "  </script>\n",
              "</div>\n",
              "\n",
              "    </div>\n",
              "  </div>\n"
            ],
            "application/vnd.google.colaboratory.intrinsic+json": {
              "type": "dataframe",
              "variable_name": "train_merged"
            }
          },
          "metadata": {},
          "execution_count": 29
        }
      ]
    },
    {
      "cell_type": "code",
      "source": [
        "# 'Category' 열을 기준으로 그룹화하고 'Value' 열을 기준으로 정렬\n",
        "train_merged_sorted = train_merged.sort_values(by=['item_category_id', 'item_category_name'])\n",
        "\n",
        "# 새로운 DataFrame으로 저장\n",
        "category_df = train_merged_sorted.reset_index(drop=True)\n",
        "\n",
        "# 결과 출력\n",
        "category_df.head()"
      ],
      "metadata": {
        "colab": {
          "base_uri": "https://localhost:8080/"
        },
        "id": "w0ms8-XI80eC",
        "outputId": "8662c7b1-4694-4868-b950-4408455ff891"
      },
      "execution_count": null,
      "outputs": [
        {
          "output_type": "execute_result",
          "data": {
            "text/plain": [
              "         date  date_block_num  shop_id  item_id  item_price  item_cnt_day  \\\n",
              "0  10.01.2013               0       25    16257       148.0           1.0   \n",
              "1  28.02.2013               1        0    16255        93.0           1.0   \n",
              "2  02.04.2013               3       38    16256        22.4           1.0   \n",
              "3  10.01.2013               0       45     5606       148.0           1.0   \n",
              "4  20.02.2013               1        0     5740       283.0           1.0   \n",
              "\n",
              "                           shop_name  \\\n",
              "0                Moscow TRC \"Atrium\"   \n",
              "1  ! Yakutsk Ordzhonikidze, 56 Franc   \n",
              "2                     Omsk TC \"Mega\"   \n",
              "3               Samara TC \"Parkhaus\"   \n",
              "4  ! Yakutsk Ordzhonikidze, 56 Franc   \n",
              "\n",
              "                                           item_name  item_category_id  \\\n",
              "0                       Наушники RITMIX RH-124 Black                 0   \n",
              "1                        Nauşniki PHILIPS SBC HC8680                 0   \n",
              "2                           Headphones RITMIX RH-120                 0   \n",
              "3  PS2: Memory Card 8 MB Black (Memory Card 8Mb -...                 1   \n",
              "4  Pelican. Геймпад Nerf Wireless Controller PS2 ...                 1   \n",
              "\n",
              "           item_category_name  item_cnt_month  \n",
              "0  PC - Headsets / Headphones        131850.0  \n",
              "1  PC - Headsets / Headphones        128382.0  \n",
              "2  PC - Headsets / Headphones        107439.0  \n",
              "3           Accessories - PS2        131850.0  \n",
              "4           Accessories - PS2        128382.0  "
            ],
            "text/html": [
              "\n",
              "  <div id=\"df-5dc76bd5-8404-4fbe-a32c-ea35213e3b6a\" class=\"colab-df-container\">\n",
              "    <div>\n",
              "<style scoped>\n",
              "    .dataframe tbody tr th:only-of-type {\n",
              "        vertical-align: middle;\n",
              "    }\n",
              "\n",
              "    .dataframe tbody tr th {\n",
              "        vertical-align: top;\n",
              "    }\n",
              "\n",
              "    .dataframe thead th {\n",
              "        text-align: right;\n",
              "    }\n",
              "</style>\n",
              "<table border=\"1\" class=\"dataframe\">\n",
              "  <thead>\n",
              "    <tr style=\"text-align: right;\">\n",
              "      <th></th>\n",
              "      <th>date</th>\n",
              "      <th>date_block_num</th>\n",
              "      <th>shop_id</th>\n",
              "      <th>item_id</th>\n",
              "      <th>item_price</th>\n",
              "      <th>item_cnt_day</th>\n",
              "      <th>shop_name</th>\n",
              "      <th>item_name</th>\n",
              "      <th>item_category_id</th>\n",
              "      <th>item_category_name</th>\n",
              "      <th>item_cnt_month</th>\n",
              "    </tr>\n",
              "  </thead>\n",
              "  <tbody>\n",
              "    <tr>\n",
              "      <th>0</th>\n",
              "      <td>10.01.2013</td>\n",
              "      <td>0</td>\n",
              "      <td>25</td>\n",
              "      <td>16257</td>\n",
              "      <td>148.0</td>\n",
              "      <td>1.0</td>\n",
              "      <td>Moscow TRC \"Atrium\"</td>\n",
              "      <td>Наушники RITMIX RH-124 Black</td>\n",
              "      <td>0</td>\n",
              "      <td>PC - Headsets / Headphones</td>\n",
              "      <td>131850.0</td>\n",
              "    </tr>\n",
              "    <tr>\n",
              "      <th>1</th>\n",
              "      <td>28.02.2013</td>\n",
              "      <td>1</td>\n",
              "      <td>0</td>\n",
              "      <td>16255</td>\n",
              "      <td>93.0</td>\n",
              "      <td>1.0</td>\n",
              "      <td>! Yakutsk Ordzhonikidze, 56 Franc</td>\n",
              "      <td>Nauşniki PHILIPS SBC HC8680</td>\n",
              "      <td>0</td>\n",
              "      <td>PC - Headsets / Headphones</td>\n",
              "      <td>128382.0</td>\n",
              "    </tr>\n",
              "    <tr>\n",
              "      <th>2</th>\n",
              "      <td>02.04.2013</td>\n",
              "      <td>3</td>\n",
              "      <td>38</td>\n",
              "      <td>16256</td>\n",
              "      <td>22.4</td>\n",
              "      <td>1.0</td>\n",
              "      <td>Omsk TC \"Mega\"</td>\n",
              "      <td>Headphones RITMIX RH-120</td>\n",
              "      <td>0</td>\n",
              "      <td>PC - Headsets / Headphones</td>\n",
              "      <td>107439.0</td>\n",
              "    </tr>\n",
              "    <tr>\n",
              "      <th>3</th>\n",
              "      <td>10.01.2013</td>\n",
              "      <td>0</td>\n",
              "      <td>45</td>\n",
              "      <td>5606</td>\n",
              "      <td>148.0</td>\n",
              "      <td>1.0</td>\n",
              "      <td>Samara TC \"Parkhaus\"</td>\n",
              "      <td>PS2: Memory Card 8 MB Black (Memory Card 8Mb -...</td>\n",
              "      <td>1</td>\n",
              "      <td>Accessories - PS2</td>\n",
              "      <td>131850.0</td>\n",
              "    </tr>\n",
              "    <tr>\n",
              "      <th>4</th>\n",
              "      <td>20.02.2013</td>\n",
              "      <td>1</td>\n",
              "      <td>0</td>\n",
              "      <td>5740</td>\n",
              "      <td>283.0</td>\n",
              "      <td>1.0</td>\n",
              "      <td>! Yakutsk Ordzhonikidze, 56 Franc</td>\n",
              "      <td>Pelican. Геймпад Nerf Wireless Controller PS2 ...</td>\n",
              "      <td>1</td>\n",
              "      <td>Accessories - PS2</td>\n",
              "      <td>128382.0</td>\n",
              "    </tr>\n",
              "  </tbody>\n",
              "</table>\n",
              "</div>\n",
              "    <div class=\"colab-df-buttons\">\n",
              "\n",
              "  <div class=\"colab-df-container\">\n",
              "    <button class=\"colab-df-convert\" onclick=\"convertToInteractive('df-5dc76bd5-8404-4fbe-a32c-ea35213e3b6a')\"\n",
              "            title=\"Convert this dataframe to an interactive table.\"\n",
              "            style=\"display:none;\">\n",
              "\n",
              "  <svg xmlns=\"http://www.w3.org/2000/svg\" height=\"24px\" viewBox=\"0 -960 960 960\">\n",
              "    <path d=\"M120-120v-720h720v720H120Zm60-500h600v-160H180v160Zm220 220h160v-160H400v160Zm0 220h160v-160H400v160ZM180-400h160v-160H180v160Zm440 0h160v-160H620v160ZM180-180h160v-160H180v160Zm440 0h160v-160H620v160Z\"/>\n",
              "  </svg>\n",
              "    </button>\n",
              "\n",
              "  <style>\n",
              "    .colab-df-container {\n",
              "      display:flex;\n",
              "      gap: 12px;\n",
              "    }\n",
              "\n",
              "    .colab-df-convert {\n",
              "      background-color: #E8F0FE;\n",
              "      border: none;\n",
              "      border-radius: 50%;\n",
              "      cursor: pointer;\n",
              "      display: none;\n",
              "      fill: #1967D2;\n",
              "      height: 32px;\n",
              "      padding: 0 0 0 0;\n",
              "      width: 32px;\n",
              "    }\n",
              "\n",
              "    .colab-df-convert:hover {\n",
              "      background-color: #E2EBFA;\n",
              "      box-shadow: 0px 1px 2px rgba(60, 64, 67, 0.3), 0px 1px 3px 1px rgba(60, 64, 67, 0.15);\n",
              "      fill: #174EA6;\n",
              "    }\n",
              "\n",
              "    .colab-df-buttons div {\n",
              "      margin-bottom: 4px;\n",
              "    }\n",
              "\n",
              "    [theme=dark] .colab-df-convert {\n",
              "      background-color: #3B4455;\n",
              "      fill: #D2E3FC;\n",
              "    }\n",
              "\n",
              "    [theme=dark] .colab-df-convert:hover {\n",
              "      background-color: #434B5C;\n",
              "      box-shadow: 0px 1px 3px 1px rgba(0, 0, 0, 0.15);\n",
              "      filter: drop-shadow(0px 1px 2px rgba(0, 0, 0, 0.3));\n",
              "      fill: #FFFFFF;\n",
              "    }\n",
              "  </style>\n",
              "\n",
              "    <script>\n",
              "      const buttonEl =\n",
              "        document.querySelector('#df-5dc76bd5-8404-4fbe-a32c-ea35213e3b6a button.colab-df-convert');\n",
              "      buttonEl.style.display =\n",
              "        google.colab.kernel.accessAllowed ? 'block' : 'none';\n",
              "\n",
              "      async function convertToInteractive(key) {\n",
              "        const element = document.querySelector('#df-5dc76bd5-8404-4fbe-a32c-ea35213e3b6a');\n",
              "        const dataTable =\n",
              "          await google.colab.kernel.invokeFunction('convertToInteractive',\n",
              "                                                    [key], {});\n",
              "        if (!dataTable) return;\n",
              "\n",
              "        const docLinkHtml = 'Like what you see? Visit the ' +\n",
              "          '<a target=\"_blank\" href=https://colab.research.google.com/notebooks/data_table.ipynb>data table notebook</a>'\n",
              "          + ' to learn more about interactive tables.';\n",
              "        element.innerHTML = '';\n",
              "        dataTable['output_type'] = 'display_data';\n",
              "        await google.colab.output.renderOutput(dataTable, element);\n",
              "        const docLink = document.createElement('div');\n",
              "        docLink.innerHTML = docLinkHtml;\n",
              "        element.appendChild(docLink);\n",
              "      }\n",
              "    </script>\n",
              "  </div>\n",
              "\n",
              "\n",
              "<div id=\"df-f1a6fbba-6cde-4ccb-b474-1be8744812ba\">\n",
              "  <button class=\"colab-df-quickchart\" onclick=\"quickchart('df-f1a6fbba-6cde-4ccb-b474-1be8744812ba')\"\n",
              "            title=\"Suggest charts\"\n",
              "            style=\"display:none;\">\n",
              "\n",
              "<svg xmlns=\"http://www.w3.org/2000/svg\" height=\"24px\"viewBox=\"0 0 24 24\"\n",
              "     width=\"24px\">\n",
              "    <g>\n",
              "        <path d=\"M19 3H5c-1.1 0-2 .9-2 2v14c0 1.1.9 2 2 2h14c1.1 0 2-.9 2-2V5c0-1.1-.9-2-2-2zM9 17H7v-7h2v7zm4 0h-2V7h2v10zm4 0h-2v-4h2v4z\"/>\n",
              "    </g>\n",
              "</svg>\n",
              "  </button>\n",
              "\n",
              "<style>\n",
              "  .colab-df-quickchart {\n",
              "      --bg-color: #E8F0FE;\n",
              "      --fill-color: #1967D2;\n",
              "      --hover-bg-color: #E2EBFA;\n",
              "      --hover-fill-color: #174EA6;\n",
              "      --disabled-fill-color: #AAA;\n",
              "      --disabled-bg-color: #DDD;\n",
              "  }\n",
              "\n",
              "  [theme=dark] .colab-df-quickchart {\n",
              "      --bg-color: #3B4455;\n",
              "      --fill-color: #D2E3FC;\n",
              "      --hover-bg-color: #434B5C;\n",
              "      --hover-fill-color: #FFFFFF;\n",
              "      --disabled-bg-color: #3B4455;\n",
              "      --disabled-fill-color: #666;\n",
              "  }\n",
              "\n",
              "  .colab-df-quickchart {\n",
              "    background-color: var(--bg-color);\n",
              "    border: none;\n",
              "    border-radius: 50%;\n",
              "    cursor: pointer;\n",
              "    display: none;\n",
              "    fill: var(--fill-color);\n",
              "    height: 32px;\n",
              "    padding: 0;\n",
              "    width: 32px;\n",
              "  }\n",
              "\n",
              "  .colab-df-quickchart:hover {\n",
              "    background-color: var(--hover-bg-color);\n",
              "    box-shadow: 0 1px 2px rgba(60, 64, 67, 0.3), 0 1px 3px 1px rgba(60, 64, 67, 0.15);\n",
              "    fill: var(--button-hover-fill-color);\n",
              "  }\n",
              "\n",
              "  .colab-df-quickchart-complete:disabled,\n",
              "  .colab-df-quickchart-complete:disabled:hover {\n",
              "    background-color: var(--disabled-bg-color);\n",
              "    fill: var(--disabled-fill-color);\n",
              "    box-shadow: none;\n",
              "  }\n",
              "\n",
              "  .colab-df-spinner {\n",
              "    border: 2px solid var(--fill-color);\n",
              "    border-color: transparent;\n",
              "    border-bottom-color: var(--fill-color);\n",
              "    animation:\n",
              "      spin 1s steps(1) infinite;\n",
              "  }\n",
              "\n",
              "  @keyframes spin {\n",
              "    0% {\n",
              "      border-color: transparent;\n",
              "      border-bottom-color: var(--fill-color);\n",
              "      border-left-color: var(--fill-color);\n",
              "    }\n",
              "    20% {\n",
              "      border-color: transparent;\n",
              "      border-left-color: var(--fill-color);\n",
              "      border-top-color: var(--fill-color);\n",
              "    }\n",
              "    30% {\n",
              "      border-color: transparent;\n",
              "      border-left-color: var(--fill-color);\n",
              "      border-top-color: var(--fill-color);\n",
              "      border-right-color: var(--fill-color);\n",
              "    }\n",
              "    40% {\n",
              "      border-color: transparent;\n",
              "      border-right-color: var(--fill-color);\n",
              "      border-top-color: var(--fill-color);\n",
              "    }\n",
              "    60% {\n",
              "      border-color: transparent;\n",
              "      border-right-color: var(--fill-color);\n",
              "    }\n",
              "    80% {\n",
              "      border-color: transparent;\n",
              "      border-right-color: var(--fill-color);\n",
              "      border-bottom-color: var(--fill-color);\n",
              "    }\n",
              "    90% {\n",
              "      border-color: transparent;\n",
              "      border-bottom-color: var(--fill-color);\n",
              "    }\n",
              "  }\n",
              "</style>\n",
              "\n",
              "  <script>\n",
              "    async function quickchart(key) {\n",
              "      const quickchartButtonEl =\n",
              "        document.querySelector('#' + key + ' button');\n",
              "      quickchartButtonEl.disabled = true;  // To prevent multiple clicks.\n",
              "      quickchartButtonEl.classList.add('colab-df-spinner');\n",
              "      try {\n",
              "        const charts = await google.colab.kernel.invokeFunction(\n",
              "            'suggestCharts', [key], {});\n",
              "      } catch (error) {\n",
              "        console.error('Error during call to suggestCharts:', error);\n",
              "      }\n",
              "      quickchartButtonEl.classList.remove('colab-df-spinner');\n",
              "      quickchartButtonEl.classList.add('colab-df-quickchart-complete');\n",
              "    }\n",
              "    (() => {\n",
              "      let quickchartButtonEl =\n",
              "        document.querySelector('#df-f1a6fbba-6cde-4ccb-b474-1be8744812ba button');\n",
              "      quickchartButtonEl.style.display =\n",
              "        google.colab.kernel.accessAllowed ? 'block' : 'none';\n",
              "    })();\n",
              "  </script>\n",
              "</div>\n",
              "\n",
              "    </div>\n",
              "  </div>\n"
            ],
            "application/vnd.google.colaboratory.intrinsic+json": {
              "type": "dataframe",
              "variable_name": "category_df"
            }
          },
          "metadata": {},
          "execution_count": 30
        }
      ]
    },
    {
      "cell_type": "markdown",
      "source": [
        "- PC : 0\n",
        "- Accessories : 1-7\n",
        "- Tickets (digits) : 8\n",
        "- Delivery of goods : 9\n",
        "- Game consoles, Games : 10-31\n",
        "- Payment card : 32-36\n",
        "- Movies, Movie : 37-40\n",
        "- Cinema : 41\n",
        "- Books : 42-54\n",
        "- Music : 55-60\n",
        "- Gifts : 61-72\n",
        "- Program,Programs,System Tools : 73-79\n",
        "- Utilities : 80\n",
        "- Net carriers : 81-82\n",
        "- batteries : 83"
      ],
      "metadata": {
        "id": "bn_RHQ-j-zFI"
      }
    },
    {
      "cell_type": "code",
      "source": [
        "# PC를 가지는 행들만 선택\n",
        "filtered_df = category_df[category_df['item_category_id'].isin([0])]\n",
        "\n",
        "# Category 별로 박스플롯 생성\n",
        "plt.figure(figsize=(10, 6))\n",
        "filtered_df.boxplot(column='item_price', by='item_category_id', grid=False)\n",
        "\n",
        "# 그래프 제목과 라벨 설정\n",
        "plt.title('Boxplot of Value by Category (PC)')\n",
        "plt.suptitle('')  # 기본 부제목 제거\n",
        "plt.xlabel('item_category_id')\n",
        "plt.ylabel('item_price')\n",
        "\n",
        "# 그래프 표시\n",
        "plt.show()"
      ],
      "metadata": {
        "colab": {
          "base_uri": "https://localhost:8080/",
          "height": 478
        },
        "id": "Tw0WSBjhCkin",
        "outputId": "d0746761-49a1-4bee-9472-63808055366d"
      },
      "execution_count": null,
      "outputs": [
        {
          "output_type": "display_data",
          "data": {
            "text/plain": [
              "<Figure size 1000x600 with 0 Axes>"
            ]
          },
          "metadata": {}
        },
        {
          "output_type": "display_data",
          "data": {
            "text/plain": [
              "<Figure size 640x480 with 1 Axes>"
            ],
            "image/png": "[encoded data removed]"
          },
          "metadata": {}
        }
      ]
    },
    {
      "cell_type": "code",
      "source": [
        "# Accessories을 가지는 행들만 선택\n",
        "filtered_df = category_df[category_df['item_category_id'].isin([1,2,3,4,5,6,7])]\n",
        "\n",
        "# Category 별로 박스플롯 생성\n",
        "plt.figure(figsize=(10, 6))\n",
        "filtered_df.boxplot(column='item_price', by='item_category_id', grid=False)\n",
        "\n",
        "# 그래프 제목과 라벨 설정\n",
        "plt.title('Boxplot of Value by Category (Accessories)')\n",
        "plt.suptitle('')  # 기본 부제목 제거\n",
        "plt.xlabel('item_category_id')\n",
        "plt.ylabel('item_price')\n",
        "\n",
        "# 그래프 표시\n",
        "plt.show()"
      ],
      "metadata": {
        "colab": {
          "base_uri": "https://localhost:8080/",
          "height": 478
        },
        "outputId": "d56b264f-3cdc-4054-8283-c669c27419de",
        "id": "vqXHhTc3Cuu1"
      },
      "execution_count": null,
      "outputs": [
        {
          "output_type": "display_data",
          "data": {
            "text/plain": [
              "<Figure size 1000x600 with 0 Axes>"
            ]
          },
          "metadata": {}
        },
        {
          "output_type": "display_data",
          "data": {
            "text/plain": [
              "<Figure size 640x480 with 1 Axes>"
            ],
            "image/png": "[encoded data removed]"
          },
          "metadata": {}
        }
      ]
    },
    {
      "cell_type": "code",
      "source": [
        "# Delivery of goods을 가지는 행들만 선택\n",
        "filtered_df = category_df[category_df['item_category_id'].isin([9])]\n",
        "\n",
        "# Category 별로 박스플롯 생성\n",
        "plt.figure(figsize=(10, 6))\n",
        "filtered_df.boxplot(column='item_price', by='item_category_id', grid=False)\n",
        "\n",
        "# 그래프 제목과 라벨 설정\n",
        "plt.title('Boxplot of Value by Category (Delivery of goods)')\n",
        "plt.suptitle('')  # 기본 부제목 제거\n",
        "plt.xlabel('item_category_id')\n",
        "plt.ylabel('item_price')\n",
        "\n",
        "# 그래프 표시\n",
        "plt.show()"
      ],
      "metadata": {
        "colab": {
          "base_uri": "https://localhost:8080/",
          "height": 478
        },
        "id": "Dx61XPJWBbzD",
        "outputId": "27f0710d-9253-4b98-c4e2-55cbb2405a69"
      },
      "execution_count": null,
      "outputs": [
        {
          "output_type": "display_data",
          "data": {
            "text/plain": [
              "<Figure size 1000x600 with 0 Axes>"
            ]
          },
          "metadata": {}
        },
        {
          "output_type": "display_data",
          "data": {
            "text/plain": [
              "<Figure size 640x480 with 1 Axes>"
            ],
            "image/png": "[encoded data removed]"
          },
          "metadata": {}
        }
      ]
    },
    {
      "cell_type": "code",
      "source": [
        "# Game consoles, Games을 가지는 행들만 선택\n",
        "filtered_df = category_df[category_df['item_category_id'].isin([10,11,12,13,14,15,16,17,18,19,20,21,22,23,24,25,26,27,28,29,30,31])]\n",
        "\n",
        "# Category 별로 박스플롯 생성\n",
        "plt.figure(figsize=(10, 6))\n",
        "filtered_df.boxplot(column='item_price', by='item_category_id', grid=False)\n",
        "\n",
        "# 그래프 제목과 라벨 설정\n",
        "plt.title('Boxplot of Value by Category (Game consoles, Games)')\n",
        "plt.suptitle('')  # 기본 부제목 제거\n",
        "plt.xlabel('item_category_id')\n",
        "plt.ylabel('item_price')\n",
        "\n",
        "# 그래프 표시\n",
        "plt.show()"
      ],
      "metadata": {
        "colab": {
          "base_uri": "https://localhost:8080/",
          "height": 478
        },
        "outputId": "49c0af35-b7b7-4a88-8161-3812325d7bbf",
        "id": "sbHTv0ANDIC2"
      },
      "execution_count": null,
      "outputs": [
        {
          "output_type": "display_data",
          "data": {
            "text/plain": [
              "<Figure size 1000x600 with 0 Axes>"
            ]
          },
          "metadata": {}
        },
        {
          "output_type": "display_data",
          "data": {
            "text/plain": [
              "<Figure size 640x480 with 1 Axes>"
            ],
            "image/png": "[encoded data removed]"
          },
          "metadata": {}
        }
      ]
    },
    {
      "cell_type": "code",
      "source": [
        "# Payment card을 가지는 행들만 선택\n",
        "filtered_df = category_df[category_df['item_category_id'].isin([32,33,34,35,36])]\n",
        "\n",
        "# Category 별로 박스플롯 생성\n",
        "plt.figure(figsize=(10, 6))\n",
        "filtered_df.boxplot(column='item_price', by='item_category_id', grid=False)\n",
        "\n",
        "# 그래프 제목과 라벨 설정\n",
        "plt.title('Boxplot of Value by Category (Payment card)')\n",
        "plt.suptitle('')  # 기본 부제목 제거\n",
        "plt.xlabel('item_category_id')\n",
        "plt.ylabel('item_price')\n",
        "\n",
        "# 그래프 표시\n",
        "plt.show()"
      ],
      "metadata": {
        "colab": {
          "base_uri": "https://localhost:8080/",
          "height": 478
        },
        "outputId": "a3cee6ff-7c98-45bd-9315-1b3b38b3afaf",
        "id": "ex9t623BDIGC"
      },
      "execution_count": null,
      "outputs": [
        {
          "output_type": "display_data",
          "data": {
            "text/plain": [
              "<Figure size 1000x600 with 0 Axes>"
            ]
          },
          "metadata": {}
        },
        {
          "output_type": "display_data",
          "data": {
            "text/plain": [
              "<Figure size 640x480 with 1 Axes>"
            ],
            "image/png": "[encoded data removed]"
          },
          "metadata": {}
        }
      ]
    },
    {
      "cell_type": "code",
      "source": [
        "# Movies, Movie을 가지는 행들만 선택\n",
        "filtered_df = category_df[category_df['item_category_id'].isin([37,38,39,40])]\n",
        "\n",
        "# Category 별로 박스플롯 생성\n",
        "plt.figure(figsize=(10, 6))\n",
        "filtered_df.boxplot(column='item_price', by='item_category_id', grid=False)\n",
        "\n",
        "# 그래프 제목과 라벨 설정\n",
        "plt.title('Boxplot of Value by Category (Movies, Movie)')\n",
        "plt.suptitle('')  # 기본 부제목 제거\n",
        "plt.xlabel('item_category_id')\n",
        "plt.ylabel('item_price')\n",
        "\n",
        "# 그래프 표시\n",
        "plt.show()"
      ],
      "metadata": {
        "colab": {
          "base_uri": "https://localhost:8080/",
          "height": 478
        },
        "outputId": "72c9a8c6-aadb-4088-9975-21bdd6506b0a",
        "id": "ZbwvT8N7DIJu"
      },
      "execution_count": null,
      "outputs": [
        {
          "output_type": "display_data",
          "data": {
            "text/plain": [
              "<Figure size 1000x600 with 0 Axes>"
            ]
          },
          "metadata": {}
        },
        {
          "output_type": "display_data",
          "data": {
            "text/plain": [
              "<Figure size 640x480 with 1 Axes>"
            ],
            "image/png": "[encoded data removed]"
          },
          "metadata": {}
        }
      ]
    },
    {
      "cell_type": "code",
      "source": [
        "# Cinema을 가지는 행들만 선택\n",
        "filtered_df = category_df[category_df['item_category_id'].isin([41])]\n",
        "\n",
        "# Category 별로 박스플롯 생성\n",
        "plt.figure(figsize=(10, 6))\n",
        "filtered_df.boxplot(column='item_price', by='item_category_id', grid=False)\n",
        "\n",
        "# 그래프 제목과 라벨 설정\n",
        "plt.title('Boxplot of Value by Category (Cinema)')\n",
        "plt.suptitle('')  # 기본 부제목 제거\n",
        "plt.xlabel('item_category_id')\n",
        "plt.ylabel('item_price')\n",
        "\n",
        "# 그래프 표시\n",
        "plt.show()"
      ],
      "metadata": {
        "colab": {
          "base_uri": "https://localhost:8080/",
          "height": 478
        },
        "outputId": "2ed4ed6c-349c-4842-a5a6-e7c8d22d4da3",
        "id": "BgoUV8cyDuc5"
      },
      "execution_count": null,
      "outputs": [
        {
          "output_type": "display_data",
          "data": {
            "text/plain": [
              "<Figure size 1000x600 with 0 Axes>"
            ]
          },
          "metadata": {}
        },
        {
          "output_type": "display_data",
          "data": {
            "text/plain": [
              "<Figure size 640x480 with 1 Axes>"
            ],
            "image/png": "[encoded data removed]"
          },
          "metadata": {}
        }
      ]
    },
    {
      "cell_type": "code",
      "source": [
        "# Books을 가지는 행들만 선택\n",
        "filtered_df = category_df[category_df['item_category_id'].isin([42,43,44,45,46,47,48,49,50,51,52,53,54])]\n",
        "\n",
        "# Category 별로 박스플롯 생성\n",
        "plt.figure(figsize=(10, 6))\n",
        "filtered_df.boxplot(column='item_price', by='item_category_id', grid=False)\n",
        "\n",
        "# 그래프 제목과 라벨 설정\n",
        "plt.title('Boxplot of Value by Category (Books)')\n",
        "plt.suptitle('')  # 기본 부제목 제거\n",
        "plt.xlabel('item_category_id')\n",
        "plt.ylabel('item_price')\n",
        "\n",
        "# 그래프 표시\n",
        "plt.show()"
      ],
      "metadata": {
        "colab": {
          "base_uri": "https://localhost:8080/",
          "height": 478
        },
        "outputId": "9d124966-89a8-4b94-f913-f1ad8a77f39c",
        "id": "R4z78-rpDuk2"
      },
      "execution_count": null,
      "outputs": [
        {
          "output_type": "display_data",
          "data": {
            "text/plain": [
              "<Figure size 1000x600 with 0 Axes>"
            ]
          },
          "metadata": {}
        },
        {
          "output_type": "display_data",
          "data": {
            "text/plain": [
              "<Figure size 640x480 with 1 Axes>"
            ],
            "image/png": "[encoded data removed]"
          },
          "metadata": {}
        }
      ]
    },
    {
      "cell_type": "code",
      "source": [
        "# Music을 가지는 행들만 선택\n",
        "filtered_df = category_df[category_df['item_category_id'].isin([55,56,57,58,59,60])]\n",
        "\n",
        "# Category 별로 박스플롯 생성\n",
        "plt.figure(figsize=(10, 6))\n",
        "filtered_df.boxplot(column='item_price', by='item_category_id', grid=False)\n",
        "\n",
        "# 그래프 제목과 라벨 설정\n",
        "plt.title('Boxplot of Value by Category (Music)')\n",
        "plt.suptitle('')  # 기본 부제목 제거\n",
        "plt.xlabel('item_category_id')\n",
        "plt.ylabel('item_price')\n",
        "\n",
        "# 그래프 표시\n",
        "plt.show()"
      ],
      "metadata": {
        "colab": {
          "base_uri": "https://localhost:8080/",
          "height": 478
        },
        "outputId": "6bbb6aa1-1f34-4f82-f4f6-dbbafccc21c8",
        "id": "iYjf6oudDumT"
      },
      "execution_count": null,
      "outputs": [
        {
          "output_type": "display_data",
          "data": {
            "text/plain": [
              "<Figure size 1000x600 with 0 Axes>"
            ]
          },
          "metadata": {}
        },
        {
          "output_type": "display_data",
          "data": {
            "text/plain": [
              "<Figure size 640x480 with 1 Axes>"
            ],
            "image/png": "[encoded data removed]"
          },
          "metadata": {}
        }
      ]
    },
    {
      "cell_type": "code",
      "source": [
        "# Gifts을 가지는 행들만 선택\n",
        "filtered_df = category_df[category_df['item_category_id'].isin([61,62,63,64,65,66,67,68,69,70,71,72])]\n",
        "\n",
        "# Category 별로 박스플롯 생성\n",
        "plt.figure(figsize=(10, 6))\n",
        "filtered_df.boxplot(column='item_price', by='item_category_id', grid=False)\n",
        "\n",
        "# 그래프 제목과 라벨 설정\n",
        "plt.title('Boxplot of Value by Category (Gifts)')\n",
        "plt.suptitle('')  # 기본 부제목 제거\n",
        "plt.xlabel('item_category_id')\n",
        "plt.ylabel('item_price')\n",
        "\n",
        "# 그래프 표시\n",
        "plt.show()"
      ],
      "metadata": {
        "colab": {
          "base_uri": "https://localhost:8080/",
          "height": 478
        },
        "outputId": "84a4d45f-78cd-4e66-fde8-77c6ca8cb7e3",
        "id": "Z49fqhyADunl"
      },
      "execution_count": null,
      "outputs": [
        {
          "output_type": "display_data",
          "data": {
            "text/plain": [
              "<Figure size 1000x600 with 0 Axes>"
            ]
          },
          "metadata": {}
        },
        {
          "output_type": "display_data",
          "data": {
            "text/plain": [
              "<Figure size 640x480 with 1 Axes>"
            ],
            "image/png": "[encoded data removed]"
          },
          "metadata": {}
        }
      ]
    },
    {
      "cell_type": "code",
      "source": [
        "# Program,Programs,System Tools을 가지는 행들만 선택\n",
        "filtered_df = category_df[category_df['item_category_id'].isin([73,74,75,76,77,78,79])]\n",
        "\n",
        "# Category 별로 박스플롯 생성\n",
        "plt.figure(figsize=(10, 6))\n",
        "filtered_df.boxplot(column='item_price', by='item_category_id', grid=False)\n",
        "\n",
        "# 그래프 제목과 라벨 설정\n",
        "plt.title('Boxplot of Value by Category (Program,Programs,System Tools)')\n",
        "plt.suptitle('')  # 기본 부제목 제거\n",
        "plt.xlabel('item_category_id')\n",
        "plt.ylabel('item_price')\n",
        "\n",
        "# 그래프 표시\n",
        "plt.show()"
      ],
      "metadata": {
        "colab": {
          "base_uri": "https://localhost:8080/",
          "height": 478
        },
        "outputId": "dfb0e5c2-5ce3-4665-ece2-f6d6df9b557a",
        "id": "XUsX5RleDupJ"
      },
      "execution_count": null,
      "outputs": [
        {
          "output_type": "display_data",
          "data": {
            "text/plain": [
              "<Figure size 1000x600 with 0 Axes>"
            ]
          },
          "metadata": {}
        },
        {
          "output_type": "display_data",
          "data": {
            "text/plain": [
              "<Figure size 640x480 with 1 Axes>"
            ],
            "image/png": "[encoded data removed]"
          },
          "metadata": {}
        }
      ]
    },
    {
      "cell_type": "code",
      "source": [
        "# Utilities을 가지는 행들만 선택\n",
        "filtered_df = category_df[category_df['item_category_id'].isin([80])]\n",
        "\n",
        "# Category 별로 박스플롯 생성\n",
        "plt.figure(figsize=(10, 6))\n",
        "filtered_df.boxplot(column='item_price', by='item_category_id', grid=False)\n",
        "\n",
        "# 그래프 제목과 라벨 설정\n",
        "plt.title('Boxplot of Value by Category (Utilities)')\n",
        "plt.suptitle('')  # 기본 부제목 제거\n",
        "plt.xlabel('item_category_id')\n",
        "plt.ylabel('item_price')\n",
        "\n",
        "# 그래프 표시\n",
        "plt.show()"
      ],
      "metadata": {
        "colab": {
          "base_uri": "https://localhost:8080/",
          "height": 478
        },
        "outputId": "5f81eff8-572e-4fb8-c32c-88f10d89bf36",
        "id": "0lQayKbvDurI"
      },
      "execution_count": null,
      "outputs": [
        {
          "output_type": "display_data",
          "data": {
            "text/plain": [
              "<Figure size 1000x600 with 0 Axes>"
            ]
          },
          "metadata": {}
        },
        {
          "output_type": "display_data",
          "data": {
            "text/plain": [
              "<Figure size 640x480 with 1 Axes>"
            ],
            "image/png": "[encoded data removed]"
          },
          "metadata": {}
        }
      ]
    },
    {
      "cell_type": "code",
      "source": [
        "# Net carriers을 가지는 행들만 선택\n",
        "filtered_df = category_df[category_df['item_category_id'].isin([81,82])]\n",
        "\n",
        "# Category 별로 박스플롯 생성\n",
        "plt.figure(figsize=(10, 6))\n",
        "filtered_df.boxplot(column='item_price', by='item_category_id', grid=False)\n",
        "\n",
        "# 그래프 제목과 라벨 설정\n",
        "plt.title('Boxplot of Value by Category (Net carriers)')\n",
        "plt.suptitle('')  # 기본 부제목 제거\n",
        "plt.xlabel('item_category_id')\n",
        "plt.ylabel('item_price')\n",
        "\n",
        "# 그래프 표시\n",
        "plt.show()"
      ],
      "metadata": {
        "colab": {
          "base_uri": "https://localhost:8080/",
          "height": 478
        },
        "outputId": "102921e2-532e-444f-f6de-92a4a7e5f6ca",
        "id": "nyr1swZxDutt"
      },
      "execution_count": null,
      "outputs": [
        {
          "output_type": "display_data",
          "data": {
            "text/plain": [
              "<Figure size 1000x600 with 0 Axes>"
            ]
          },
          "metadata": {}
        },
        {
          "output_type": "display_data",
          "data": {
            "text/plain": [
              "<Figure size 640x480 with 1 Axes>"
            ],
            "image/png": "[encoded data removed]"
          },
          "metadata": {}
        }
      ]
    },
    {
      "cell_type": "code",
      "source": [
        "# batteries을 가지는 행들만 선택\n",
        "filtered_df = category_df[category_df['item_category_id'].isin([83])]\n",
        "\n",
        "# Category 별로 박스플롯 생성\n",
        "plt.figure(figsize=(10, 6))\n",
        "filtered_df.boxplot(column='item_price', by='item_category_id', grid=False)\n",
        "\n",
        "# 그래프 제목과 라벨 설정\n",
        "plt.title('Boxplot of Value by Category (batteries)')\n",
        "plt.suptitle('')  # 기본 부제목 제거\n",
        "plt.xlabel('item_category_id')\n",
        "plt.ylabel('item_price')\n",
        "\n",
        "# 그래프 표시\n",
        "plt.show()"
      ],
      "metadata": {
        "colab": {
          "base_uri": "https://localhost:8080/",
          "height": 478
        },
        "outputId": "805cca60-b2cb-49ba-c137-416760385044",
        "id": "tN2DHhPuDuxU"
      },
      "execution_count": null,
      "outputs": [
        {
          "output_type": "display_data",
          "data": {
            "text/plain": [
              "<Figure size 1000x600 with 0 Axes>"
            ]
          },
          "metadata": {}
        },
        {
          "output_type": "display_data",
          "data": {
            "text/plain": [
              "<Figure size 640x480 with 1 Axes>"
            ],
            "image/png": "[encoded data removed]"
          },
          "metadata": {}
        }
      ]
    },
    {
      "cell_type": "code",
      "source": [
        "# 중복 행 확인\n",
        "duplicates = train_marged[train_marged.duplicated()]\n",
        "\n",
        "if duplicates.empty:\n",
        "    print(\"중복 행이 없습니다.\")\n",
        "else:\n",
        "    print(\"중복 행이 있습니다.\")\n",
        "    print(duplicates)"
      ],
      "metadata": {
        "colab": {
          "base_uri": "https://localhost:8080/"
        },
        "id": "mgMTPTtuSAf2",
        "outputId": "e0a8b618-da5f-47a9-c2d2-b9a379aee59c"
      },
      "execution_count": null,
      "outputs": [
        {
          "output_type": "error",
          "ename": "NameError",
          "evalue": "name 'train_marged' is not defined",
          "traceback": [
            "\u001b[0;31m---------------------------------------------------------------------------\u001b[0m",
            "\u001b[0;31mNameError\u001b[0m                                 Traceback (most recent call last)",
            "\u001b[0;32m<ipython-input-45-0dc5ddfe1023>\u001b[0m in \u001b[0;36m<cell line: 2>\u001b[0;34m()\u001b[0m\n\u001b[1;32m      1\u001b[0m \u001b[0;31m# 중복 행 확인\u001b[0m\u001b[0;34m\u001b[0m\u001b[0;34m\u001b[0m\u001b[0m\n\u001b[0;32m----> 2\u001b[0;31m \u001b[0mduplicates\u001b[0m \u001b[0;34m=\u001b[0m \u001b[0mtrain_marged\u001b[0m\u001b[0;34m[\u001b[0m\u001b[0mtrain_marged\u001b[0m\u001b[0;34m.\u001b[0m\u001b[0mduplicated\u001b[0m\u001b[0;34m(\u001b[0m\u001b[0;34m)\u001b[0m\u001b[0;34m]\u001b[0m\u001b[0;34m\u001b[0m\u001b[0;34m\u001b[0m\u001b[0m\n\u001b[0m\u001b[1;32m      3\u001b[0m \u001b[0;34m\u001b[0m\u001b[0m\n\u001b[1;32m      4\u001b[0m \u001b[0;32mif\u001b[0m \u001b[0mduplicates\u001b[0m\u001b[0;34m.\u001b[0m\u001b[0mempty\u001b[0m\u001b[0;34m:\u001b[0m\u001b[0;34m\u001b[0m\u001b[0;34m\u001b[0m\u001b[0m\n\u001b[1;32m      5\u001b[0m     \u001b[0mprint\u001b[0m\u001b[0;34m(\u001b[0m\u001b[0;34m\"중복 행이 없습니다.\"\u001b[0m\u001b[0;34m)\u001b[0m\u001b[0;34m\u001b[0m\u001b[0;34m\u001b[0m\u001b[0m\n",
            "\u001b[0;31mNameError\u001b[0m: name 'train_marged' is not defined"
          ]
        }
      ]
    }
  ]
}